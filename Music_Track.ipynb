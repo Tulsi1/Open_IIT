{
  "nbformat": 4,
  "nbformat_minor": 0,
  "metadata": {
    "colab": {
      "name": "Music_Track.ipynb",
      "provenance": [],
      "collapsed_sections": []
    },
    "kernelspec": {
      "display_name": "Python 3",
      "name": "python3"
    },
    "accelerator": "GPU"
  },
  "cells": [
    {
      "cell_type": "code",
      "metadata": {
        "id": "BGEGhHUyMb8p"
      },
      "source": [
        "import pandas as pd\n",
        "import numpy as np\n",
        "import matplotlib.pyplot as plt"
      ],
      "execution_count": null,
      "outputs": []
    },
    {
      "cell_type": "code",
      "metadata": {
        "id": "azJn6yo7WpSd"
      },
      "source": [
        "#from google.colab import drive\n",
        "#drive.mount('/content/drive')"
      ],
      "execution_count": null,
      "outputs": []
    },
    {
      "cell_type": "code",
      "metadata": {
        "id": "um4PFaNpM27e"
      },
      "source": [
        "\n",
        "#original_train_data=pd.read_csv(\"/content/drive/MyDrive/Dataset/Music Track(Open IIT 2021)/Train_data.csv\")\n",
        "#original_test_data=pd.read_csv(\"/content/drive/MyDrive/Dataset/Music Track(Open IIT 2021)/Test_data.csv\")\n",
        "original_train_data=pd.read_csv(\"https://raw.githubusercontent.com/Tulsi1/Open_IIT/main/Train_data.csv\")\n",
        "original_test_data=pd.read_csv(\"https://raw.githubusercontent.com/Tulsi1/Open_IIT/main/Test_data.csv\")\n"
      ],
      "execution_count": null,
      "outputs": []
    },
    {
      "cell_type": "code",
      "metadata": {
        "id": "wqpMQufzc6SN"
      },
      "source": [
        "train_data=original_train_data.copy()\n",
        "test_data=original_test_data.copy()"
      ],
      "execution_count": null,
      "outputs": []
    },
    {
      "cell_type": "code",
      "metadata": {
        "colab": {
          "base_uri": "https://localhost:8080/",
          "height": 195
        },
        "id": "Bu8a2ldSNIXx",
        "outputId": "3d2c6d97-dc28-4dc3-cd37-f642a5a0f13d"
      },
      "source": [
        "train_data.head()"
      ],
      "execution_count": null,
      "outputs": [
        {
          "output_type": "execute_result",
          "data": {
            "text/html": [
              "<div>\n",
              "<style scoped>\n",
              "    .dataframe tbody tr th:only-of-type {\n",
              "        vertical-align: middle;\n",
              "    }\n",
              "\n",
              "    .dataframe tbody tr th {\n",
              "        vertical-align: top;\n",
              "    }\n",
              "\n",
              "    .dataframe thead th {\n",
              "        text-align: right;\n",
              "    }\n",
              "</style>\n",
              "<table border=\"1\" class=\"dataframe\">\n",
              "  <thead>\n",
              "    <tr style=\"text-align: right;\">\n",
              "      <th></th>\n",
              "      <th>id</th>\n",
              "      <th>acousticness</th>\n",
              "      <th>danceability</th>\n",
              "      <th>energy</th>\n",
              "      <th>explicit</th>\n",
              "      <th>instrumentalness</th>\n",
              "      <th>key</th>\n",
              "      <th>liveness</th>\n",
              "      <th>loudness</th>\n",
              "      <th>mode</th>\n",
              "      <th>release_date</th>\n",
              "      <th>speechiness</th>\n",
              "      <th>tempo</th>\n",
              "      <th>valence</th>\n",
              "      <th>year</th>\n",
              "      <th>duration-min</th>\n",
              "      <th>popularity</th>\n",
              "    </tr>\n",
              "  </thead>\n",
              "  <tbody>\n",
              "    <tr>\n",
              "      <th>0</th>\n",
              "      <td>2015</td>\n",
              "      <td>0.949</td>\n",
              "      <td>0.235</td>\n",
              "      <td>0.0276</td>\n",
              "      <td>No</td>\n",
              "      <td>0.9270</td>\n",
              "      <td>5</td>\n",
              "      <td>0.513</td>\n",
              "      <td>-27.398</td>\n",
              "      <td>Major</td>\n",
              "      <td>01-01-1947</td>\n",
              "      <td>0.0381</td>\n",
              "      <td>110.838</td>\n",
              "      <td>0.0398</td>\n",
              "      <td>1947</td>\n",
              "      <td>3.0</td>\n",
              "      <td>very low</td>\n",
              "    </tr>\n",
              "    <tr>\n",
              "      <th>1</th>\n",
              "      <td>15901</td>\n",
              "      <td>0.855</td>\n",
              "      <td>0.456</td>\n",
              "      <td>0.4850</td>\n",
              "      <td>No</td>\n",
              "      <td>0.0884</td>\n",
              "      <td>4</td>\n",
              "      <td>0.151</td>\n",
              "      <td>-10.046</td>\n",
              "      <td>Major</td>\n",
              "      <td>13-11-2020</td>\n",
              "      <td>0.0437</td>\n",
              "      <td>152.066</td>\n",
              "      <td>0.8590</td>\n",
              "      <td>2020</td>\n",
              "      <td>2.4</td>\n",
              "      <td>low</td>\n",
              "    </tr>\n",
              "    <tr>\n",
              "      <th>2</th>\n",
              "      <td>9002</td>\n",
              "      <td>0.827</td>\n",
              "      <td>0.495</td>\n",
              "      <td>0.4990</td>\n",
              "      <td>No</td>\n",
              "      <td>0.0000</td>\n",
              "      <td>0</td>\n",
              "      <td>0.401</td>\n",
              "      <td>-8.009</td>\n",
              "      <td>Minor</td>\n",
              "      <td>01-01-1950</td>\n",
              "      <td>0.0474</td>\n",
              "      <td>108.004</td>\n",
              "      <td>0.7090</td>\n",
              "      <td>1950</td>\n",
              "      <td>2.6</td>\n",
              "      <td>very low</td>\n",
              "    </tr>\n",
              "    <tr>\n",
              "      <th>3</th>\n",
              "      <td>6734</td>\n",
              "      <td>0.654</td>\n",
              "      <td>0.643</td>\n",
              "      <td>0.4690</td>\n",
              "      <td>No</td>\n",
              "      <td>0.1080</td>\n",
              "      <td>7</td>\n",
              "      <td>0.218</td>\n",
              "      <td>-15.917</td>\n",
              "      <td>Major</td>\n",
              "      <td>30-04-1974</td>\n",
              "      <td>0.0368</td>\n",
              "      <td>83.636</td>\n",
              "      <td>0.9640</td>\n",
              "      <td>1974</td>\n",
              "      <td>2.4</td>\n",
              "      <td>low</td>\n",
              "    </tr>\n",
              "    <tr>\n",
              "      <th>4</th>\n",
              "      <td>15563</td>\n",
              "      <td>0.738</td>\n",
              "      <td>0.705</td>\n",
              "      <td>0.3110</td>\n",
              "      <td>No</td>\n",
              "      <td>0.0000</td>\n",
              "      <td>5</td>\n",
              "      <td>0.322</td>\n",
              "      <td>-12.344</td>\n",
              "      <td>Major</td>\n",
              "      <td>01-01-1973</td>\n",
              "      <td>0.0488</td>\n",
              "      <td>117.260</td>\n",
              "      <td>0.7850</td>\n",
              "      <td>1973</td>\n",
              "      <td>3.4</td>\n",
              "      <td>average</td>\n",
              "    </tr>\n",
              "  </tbody>\n",
              "</table>\n",
              "</div>"
            ],
            "text/plain": [
              "      id  acousticness  danceability  ...  year duration-min  popularity\n",
              "0   2015         0.949         0.235  ...  1947          3.0    very low\n",
              "1  15901         0.855         0.456  ...  2020          2.4         low\n",
              "2   9002         0.827         0.495  ...  1950          2.6    very low\n",
              "3   6734         0.654         0.643  ...  1974          2.4         low\n",
              "4  15563         0.738         0.705  ...  1973          3.4     average\n",
              "\n",
              "[5 rows x 17 columns]"
            ]
          },
          "metadata": {
            "tags": []
          },
          "execution_count": 5
        }
      ]
    },
    {
      "cell_type": "code",
      "metadata": {
        "colab": {
          "base_uri": "https://localhost:8080/",
          "height": 195
        },
        "id": "wTpeIE2cv89f",
        "outputId": "cc4a3d8a-598e-4e05-9834-34d5b0d91ca3"
      },
      "source": [
        "test_data.head()"
      ],
      "execution_count": null,
      "outputs": [
        {
          "output_type": "execute_result",
          "data": {
            "text/html": [
              "<div>\n",
              "<style scoped>\n",
              "    .dataframe tbody tr th:only-of-type {\n",
              "        vertical-align: middle;\n",
              "    }\n",
              "\n",
              "    .dataframe tbody tr th {\n",
              "        vertical-align: top;\n",
              "    }\n",
              "\n",
              "    .dataframe thead th {\n",
              "        text-align: right;\n",
              "    }\n",
              "</style>\n",
              "<table border=\"1\" class=\"dataframe\">\n",
              "  <thead>\n",
              "    <tr style=\"text-align: right;\">\n",
              "      <th></th>\n",
              "      <th>id</th>\n",
              "      <th>acousticness</th>\n",
              "      <th>danceability</th>\n",
              "      <th>energy</th>\n",
              "      <th>explicit</th>\n",
              "      <th>instrumentalness</th>\n",
              "      <th>key</th>\n",
              "      <th>liveness</th>\n",
              "      <th>loudness</th>\n",
              "      <th>mode</th>\n",
              "      <th>release_date</th>\n",
              "      <th>speechiness</th>\n",
              "      <th>tempo</th>\n",
              "      <th>valence</th>\n",
              "      <th>year</th>\n",
              "      <th>duration-min</th>\n",
              "    </tr>\n",
              "  </thead>\n",
              "  <tbody>\n",
              "    <tr>\n",
              "      <th>0</th>\n",
              "      <td>4943</td>\n",
              "      <td>0.03360</td>\n",
              "      <td>0.523</td>\n",
              "      <td>0.861</td>\n",
              "      <td>No</td>\n",
              "      <td>0.000000</td>\n",
              "      <td>0</td>\n",
              "      <td>0.1440</td>\n",
              "      <td>-3.447</td>\n",
              "      <td>Major</td>\n",
              "      <td>01-01-2014</td>\n",
              "      <td>0.0644</td>\n",
              "      <td>127.049</td>\n",
              "      <td>0.346</td>\n",
              "      <td>2014</td>\n",
              "      <td>3.8</td>\n",
              "    </tr>\n",
              "    <tr>\n",
              "      <th>1</th>\n",
              "      <td>16165</td>\n",
              "      <td>0.76500</td>\n",
              "      <td>0.687</td>\n",
              "      <td>0.453</td>\n",
              "      <td>No</td>\n",
              "      <td>0.000008</td>\n",
              "      <td>7</td>\n",
              "      <td>0.0897</td>\n",
              "      <td>-11.649</td>\n",
              "      <td>Major</td>\n",
              "      <td>01-04-1972</td>\n",
              "      <td>0.0335</td>\n",
              "      <td>129.987</td>\n",
              "      <td>0.830</td>\n",
              "      <td>1972</td>\n",
              "      <td>3.8</td>\n",
              "    </tr>\n",
              "    <tr>\n",
              "      <th>2</th>\n",
              "      <td>6774</td>\n",
              "      <td>0.36300</td>\n",
              "      <td>0.536</td>\n",
              "      <td>0.640</td>\n",
              "      <td>No</td>\n",
              "      <td>0.000000</td>\n",
              "      <td>0</td>\n",
              "      <td>0.0948</td>\n",
              "      <td>-5.862</td>\n",
              "      <td>Major</td>\n",
              "      <td>02-06-1998</td>\n",
              "      <td>0.0368</td>\n",
              "      <td>142.483</td>\n",
              "      <td>0.289</td>\n",
              "      <td>1998</td>\n",
              "      <td>4.4</td>\n",
              "    </tr>\n",
              "    <tr>\n",
              "      <th>3</th>\n",
              "      <td>9959</td>\n",
              "      <td>0.00463</td>\n",
              "      <td>0.890</td>\n",
              "      <td>0.617</td>\n",
              "      <td>No</td>\n",
              "      <td>0.003850</td>\n",
              "      <td>2</td>\n",
              "      <td>0.0291</td>\n",
              "      <td>-12.096</td>\n",
              "      <td>Minor</td>\n",
              "      <td>08-09-1980</td>\n",
              "      <td>0.0418</td>\n",
              "      <td>121.126</td>\n",
              "      <td>0.970</td>\n",
              "      <td>1980</td>\n",
              "      <td>3.9</td>\n",
              "    </tr>\n",
              "    <tr>\n",
              "      <th>4</th>\n",
              "      <td>13818</td>\n",
              "      <td>0.00187</td>\n",
              "      <td>0.555</td>\n",
              "      <td>0.943</td>\n",
              "      <td>No</td>\n",
              "      <td>0.000042</td>\n",
              "      <td>2</td>\n",
              "      <td>0.1510</td>\n",
              "      <td>-2.492</td>\n",
              "      <td>Major</td>\n",
              "      <td>17-04-2007</td>\n",
              "      <td>0.0891</td>\n",
              "      <td>165.026</td>\n",
              "      <td>0.882</td>\n",
              "      <td>2007</td>\n",
              "      <td>3.2</td>\n",
              "    </tr>\n",
              "  </tbody>\n",
              "</table>\n",
              "</div>"
            ],
            "text/plain": [
              "      id  acousticness  danceability  ...  valence  year  duration-min\n",
              "0   4943       0.03360         0.523  ...    0.346  2014           3.8\n",
              "1  16165       0.76500         0.687  ...    0.830  1972           3.8\n",
              "2   6774       0.36300         0.536  ...    0.289  1998           4.4\n",
              "3   9959       0.00463         0.890  ...    0.970  1980           3.9\n",
              "4  13818       0.00187         0.555  ...    0.882  2007           3.2\n",
              "\n",
              "[5 rows x 16 columns]"
            ]
          },
          "metadata": {
            "tags": []
          },
          "execution_count": 6
        }
      ]
    },
    {
      "cell_type": "code",
      "metadata": {
        "colab": {
          "base_uri": "https://localhost:8080/"
        },
        "id": "9uzlDTQqNi1s",
        "outputId": "0c7165b1-242f-4fc2-cb57-d50c12848288"
      },
      "source": [
        "train_data.info()"
      ],
      "execution_count": null,
      "outputs": [
        {
          "output_type": "stream",
          "text": [
            "<class 'pandas.core.frame.DataFrame'>\n",
            "RangeIndex: 12227 entries, 0 to 12226\n",
            "Data columns (total 17 columns):\n",
            " #   Column            Non-Null Count  Dtype  \n",
            "---  ------            --------------  -----  \n",
            " 0   id                12227 non-null  int64  \n",
            " 1   acousticness      12227 non-null  float64\n",
            " 2   danceability      12227 non-null  float64\n",
            " 3   energy            12227 non-null  float64\n",
            " 4   explicit          12227 non-null  object \n",
            " 5   instrumentalness  12227 non-null  float64\n",
            " 6   key               12227 non-null  int64  \n",
            " 7   liveness          12227 non-null  float64\n",
            " 8   loudness          12227 non-null  float64\n",
            " 9   mode              12227 non-null  object \n",
            " 10  release_date      12227 non-null  object \n",
            " 11  speechiness       12227 non-null  float64\n",
            " 12  tempo             12227 non-null  float64\n",
            " 13  valence           12227 non-null  float64\n",
            " 14  year              12227 non-null  int64  \n",
            " 15  duration-min      12227 non-null  float64\n",
            " 16  popularity        12227 non-null  object \n",
            "dtypes: float64(10), int64(3), object(4)\n",
            "memory usage: 1.6+ MB\n"
          ],
          "name": "stdout"
        }
      ]
    },
    {
      "cell_type": "code",
      "metadata": {
        "colab": {
          "base_uri": "https://localhost:8080/"
        },
        "id": "o2arstmlwEeN",
        "outputId": "9bac75f5-096a-4499-a95f-39d77675c6cf"
      },
      "source": [
        "test_data.info()"
      ],
      "execution_count": null,
      "outputs": [
        {
          "output_type": "stream",
          "text": [
            "<class 'pandas.core.frame.DataFrame'>\n",
            "RangeIndex: 4000 entries, 0 to 3999\n",
            "Data columns (total 16 columns):\n",
            " #   Column            Non-Null Count  Dtype  \n",
            "---  ------            --------------  -----  \n",
            " 0   id                4000 non-null   int64  \n",
            " 1   acousticness      4000 non-null   float64\n",
            " 2   danceability      4000 non-null   float64\n",
            " 3   energy            4000 non-null   float64\n",
            " 4   explicit          4000 non-null   object \n",
            " 5   instrumentalness  4000 non-null   float64\n",
            " 6   key               4000 non-null   int64  \n",
            " 7   liveness          4000 non-null   float64\n",
            " 8   loudness          4000 non-null   float64\n",
            " 9   mode              4000 non-null   object \n",
            " 10  release_date      4000 non-null   object \n",
            " 11  speechiness       4000 non-null   float64\n",
            " 12  tempo             4000 non-null   float64\n",
            " 13  valence           4000 non-null   float64\n",
            " 14  year              4000 non-null   int64  \n",
            " 15  duration-min      4000 non-null   float64\n",
            "dtypes: float64(10), int64(3), object(3)\n",
            "memory usage: 500.1+ KB\n"
          ],
          "name": "stdout"
        }
      ]
    },
    {
      "cell_type": "code",
      "metadata": {
        "colab": {
          "base_uri": "https://localhost:8080/",
          "height": 410
        },
        "id": "Yuax80HHgqT3",
        "outputId": "f72cc0b2-44ed-4518-d090-2fb07ee922e9"
      },
      "source": [
        "train_data.describe(include='all')"
      ],
      "execution_count": null,
      "outputs": [
        {
          "output_type": "execute_result",
          "data": {
            "text/html": [
              "<div>\n",
              "<style scoped>\n",
              "    .dataframe tbody tr th:only-of-type {\n",
              "        vertical-align: middle;\n",
              "    }\n",
              "\n",
              "    .dataframe tbody tr th {\n",
              "        vertical-align: top;\n",
              "    }\n",
              "\n",
              "    .dataframe thead th {\n",
              "        text-align: right;\n",
              "    }\n",
              "</style>\n",
              "<table border=\"1\" class=\"dataframe\">\n",
              "  <thead>\n",
              "    <tr style=\"text-align: right;\">\n",
              "      <th></th>\n",
              "      <th>id</th>\n",
              "      <th>acousticness</th>\n",
              "      <th>danceability</th>\n",
              "      <th>energy</th>\n",
              "      <th>explicit</th>\n",
              "      <th>instrumentalness</th>\n",
              "      <th>key</th>\n",
              "      <th>liveness</th>\n",
              "      <th>loudness</th>\n",
              "      <th>mode</th>\n",
              "      <th>release_date</th>\n",
              "      <th>speechiness</th>\n",
              "      <th>tempo</th>\n",
              "      <th>valence</th>\n",
              "      <th>year</th>\n",
              "      <th>duration-min</th>\n",
              "      <th>popularity</th>\n",
              "    </tr>\n",
              "  </thead>\n",
              "  <tbody>\n",
              "    <tr>\n",
              "      <th>count</th>\n",
              "      <td>12227.000000</td>\n",
              "      <td>12227.000000</td>\n",
              "      <td>12227.000000</td>\n",
              "      <td>12227.000000</td>\n",
              "      <td>12227</td>\n",
              "      <td>12227.000000</td>\n",
              "      <td>12227.000000</td>\n",
              "      <td>12227.000000</td>\n",
              "      <td>12227.000000</td>\n",
              "      <td>12227</td>\n",
              "      <td>12227</td>\n",
              "      <td>12227.000000</td>\n",
              "      <td>12227.000000</td>\n",
              "      <td>12227.000000</td>\n",
              "      <td>12227.000000</td>\n",
              "      <td>12227.000000</td>\n",
              "      <td>12227</td>\n",
              "    </tr>\n",
              "    <tr>\n",
              "      <th>unique</th>\n",
              "      <td>NaN</td>\n",
              "      <td>NaN</td>\n",
              "      <td>NaN</td>\n",
              "      <td>NaN</td>\n",
              "      <td>2</td>\n",
              "      <td>NaN</td>\n",
              "      <td>NaN</td>\n",
              "      <td>NaN</td>\n",
              "      <td>NaN</td>\n",
              "      <td>2</td>\n",
              "      <td>3859</td>\n",
              "      <td>NaN</td>\n",
              "      <td>NaN</td>\n",
              "      <td>NaN</td>\n",
              "      <td>NaN</td>\n",
              "      <td>NaN</td>\n",
              "      <td>5</td>\n",
              "    </tr>\n",
              "    <tr>\n",
              "      <th>top</th>\n",
              "      <td>NaN</td>\n",
              "      <td>NaN</td>\n",
              "      <td>NaN</td>\n",
              "      <td>NaN</td>\n",
              "      <td>No</td>\n",
              "      <td>NaN</td>\n",
              "      <td>NaN</td>\n",
              "      <td>NaN</td>\n",
              "      <td>NaN</td>\n",
              "      <td>Major</td>\n",
              "      <td>01-01-1961</td>\n",
              "      <td>NaN</td>\n",
              "      <td>NaN</td>\n",
              "      <td>NaN</td>\n",
              "      <td>NaN</td>\n",
              "      <td>NaN</td>\n",
              "      <td>very low</td>\n",
              "    </tr>\n",
              "    <tr>\n",
              "      <th>freq</th>\n",
              "      <td>NaN</td>\n",
              "      <td>NaN</td>\n",
              "      <td>NaN</td>\n",
              "      <td>NaN</td>\n",
              "      <td>10906</td>\n",
              "      <td>NaN</td>\n",
              "      <td>NaN</td>\n",
              "      <td>NaN</td>\n",
              "      <td>NaN</td>\n",
              "      <td>8487</td>\n",
              "      <td>90</td>\n",
              "      <td>NaN</td>\n",
              "      <td>NaN</td>\n",
              "      <td>NaN</td>\n",
              "      <td>NaN</td>\n",
              "      <td>NaN</td>\n",
              "      <td>3222</td>\n",
              "    </tr>\n",
              "    <tr>\n",
              "      <th>mean</th>\n",
              "      <td>8094.034350</td>\n",
              "      <td>0.430578</td>\n",
              "      <td>0.556353</td>\n",
              "      <td>0.522129</td>\n",
              "      <td>NaN</td>\n",
              "      <td>0.149321</td>\n",
              "      <td>5.205202</td>\n",
              "      <td>0.201365</td>\n",
              "      <td>-10.668687</td>\n",
              "      <td>NaN</td>\n",
              "      <td>NaN</td>\n",
              "      <td>0.097680</td>\n",
              "      <td>118.167495</td>\n",
              "      <td>0.525300</td>\n",
              "      <td>1984.517298</td>\n",
              "      <td>3.888133</td>\n",
              "      <td>NaN</td>\n",
              "    </tr>\n",
              "    <tr>\n",
              "      <th>std</th>\n",
              "      <td>4690.929822</td>\n",
              "      <td>0.366893</td>\n",
              "      <td>0.175373</td>\n",
              "      <td>0.262482</td>\n",
              "      <td>NaN</td>\n",
              "      <td>0.297954</td>\n",
              "      <td>3.526954</td>\n",
              "      <td>0.173987</td>\n",
              "      <td>5.506888</td>\n",
              "      <td>NaN</td>\n",
              "      <td>NaN</td>\n",
              "      <td>0.155895</td>\n",
              "      <td>30.200064</td>\n",
              "      <td>0.258205</td>\n",
              "      <td>25.911998</td>\n",
              "      <td>2.383133</td>\n",
              "      <td>NaN</td>\n",
              "    </tr>\n",
              "    <tr>\n",
              "      <th>min</th>\n",
              "      <td>1.000000</td>\n",
              "      <td>0.000001</td>\n",
              "      <td>0.000000</td>\n",
              "      <td>0.000020</td>\n",
              "      <td>NaN</td>\n",
              "      <td>0.000000</td>\n",
              "      <td>0.000000</td>\n",
              "      <td>0.014700</td>\n",
              "      <td>-43.738000</td>\n",
              "      <td>NaN</td>\n",
              "      <td>NaN</td>\n",
              "      <td>0.000000</td>\n",
              "      <td>0.000000</td>\n",
              "      <td>0.000000</td>\n",
              "      <td>1920.000000</td>\n",
              "      <td>0.200000</td>\n",
              "      <td>NaN</td>\n",
              "    </tr>\n",
              "    <tr>\n",
              "      <th>25%</th>\n",
              "      <td>4026.000000</td>\n",
              "      <td>0.058950</td>\n",
              "      <td>0.438000</td>\n",
              "      <td>0.303000</td>\n",
              "      <td>NaN</td>\n",
              "      <td>0.000000</td>\n",
              "      <td>2.000000</td>\n",
              "      <td>0.096200</td>\n",
              "      <td>-13.656000</td>\n",
              "      <td>NaN</td>\n",
              "      <td>NaN</td>\n",
              "      <td>0.034700</td>\n",
              "      <td>95.050500</td>\n",
              "      <td>0.321000</td>\n",
              "      <td>1966.000000</td>\n",
              "      <td>2.900000</td>\n",
              "      <td>NaN</td>\n",
              "    </tr>\n",
              "    <tr>\n",
              "      <th>50%</th>\n",
              "      <td>8093.000000</td>\n",
              "      <td>0.354000</td>\n",
              "      <td>0.569000</td>\n",
              "      <td>0.534000</td>\n",
              "      <td>NaN</td>\n",
              "      <td>0.000115</td>\n",
              "      <td>5.000000</td>\n",
              "      <td>0.132000</td>\n",
              "      <td>-9.584000</td>\n",
              "      <td>NaN</td>\n",
              "      <td>NaN</td>\n",
              "      <td>0.045600</td>\n",
              "      <td>116.915000</td>\n",
              "      <td>0.532000</td>\n",
              "      <td>1987.000000</td>\n",
              "      <td>3.600000</td>\n",
              "      <td>NaN</td>\n",
              "    </tr>\n",
              "    <tr>\n",
              "      <th>75%</th>\n",
              "      <td>12180.000000</td>\n",
              "      <td>0.805000</td>\n",
              "      <td>0.685000</td>\n",
              "      <td>0.739000</td>\n",
              "      <td>NaN</td>\n",
              "      <td>0.055650</td>\n",
              "      <td>8.000000</td>\n",
              "      <td>0.252000</td>\n",
              "      <td>-6.571500</td>\n",
              "      <td>NaN</td>\n",
              "      <td>NaN</td>\n",
              "      <td>0.078900</td>\n",
              "      <td>136.108500</td>\n",
              "      <td>0.737000</td>\n",
              "      <td>2008.000000</td>\n",
              "      <td>4.400000</td>\n",
              "      <td>NaN</td>\n",
              "    </tr>\n",
              "    <tr>\n",
              "      <th>max</th>\n",
              "      <td>16227.000000</td>\n",
              "      <td>0.996000</td>\n",
              "      <td>0.980000</td>\n",
              "      <td>1.000000</td>\n",
              "      <td>NaN</td>\n",
              "      <td>1.000000</td>\n",
              "      <td>11.000000</td>\n",
              "      <td>0.997000</td>\n",
              "      <td>1.006000</td>\n",
              "      <td>NaN</td>\n",
              "      <td>NaN</td>\n",
              "      <td>0.968000</td>\n",
              "      <td>216.843000</td>\n",
              "      <td>1.000000</td>\n",
              "      <td>2021.000000</td>\n",
              "      <td>72.800000</td>\n",
              "      <td>NaN</td>\n",
              "    </tr>\n",
              "  </tbody>\n",
              "</table>\n",
              "</div>"
            ],
            "text/plain": [
              "                  id  acousticness  ...  duration-min  popularity\n",
              "count   12227.000000  12227.000000  ...  12227.000000       12227\n",
              "unique           NaN           NaN  ...           NaN           5\n",
              "top              NaN           NaN  ...           NaN    very low\n",
              "freq             NaN           NaN  ...           NaN        3222\n",
              "mean     8094.034350      0.430578  ...      3.888133         NaN\n",
              "std      4690.929822      0.366893  ...      2.383133         NaN\n",
              "min         1.000000      0.000001  ...      0.200000         NaN\n",
              "25%      4026.000000      0.058950  ...      2.900000         NaN\n",
              "50%      8093.000000      0.354000  ...      3.600000         NaN\n",
              "75%     12180.000000      0.805000  ...      4.400000         NaN\n",
              "max     16227.000000      0.996000  ...     72.800000         NaN\n",
              "\n",
              "[11 rows x 17 columns]"
            ]
          },
          "metadata": {
            "tags": []
          },
          "execution_count": 9
        }
      ]
    },
    {
      "cell_type": "code",
      "metadata": {
        "colab": {
          "base_uri": "https://localhost:8080/"
        },
        "id": "wBWSUZECQ4b6",
        "outputId": "1278d2ee-0a64-48fb-e9d1-8b2622a21c51"
      },
      "source": [
        "train_data.shape"
      ],
      "execution_count": null,
      "outputs": [
        {
          "output_type": "execute_result",
          "data": {
            "text/plain": [
              "(12227, 17)"
            ]
          },
          "metadata": {
            "tags": []
          },
          "execution_count": 10
        }
      ]
    },
    {
      "cell_type": "code",
      "metadata": {
        "colab": {
          "base_uri": "https://localhost:8080/"
        },
        "id": "slMzfSbFwUD1",
        "outputId": "7749890c-1d8d-4894-97a2-4eb5b3989667"
      },
      "source": [
        "test_data.shape"
      ],
      "execution_count": null,
      "outputs": [
        {
          "output_type": "execute_result",
          "data": {
            "text/plain": [
              "(4000, 16)"
            ]
          },
          "metadata": {
            "tags": []
          },
          "execution_count": 11
        }
      ]
    },
    {
      "cell_type": "code",
      "metadata": {
        "colab": {
          "base_uri": "https://localhost:8080/"
        },
        "id": "VZZP2tfmQ8fi",
        "outputId": "968b0bbe-70f3-47b8-dd30-8de9fd03d72a"
      },
      "source": [
        "train_data.isnull().sum()"
      ],
      "execution_count": null,
      "outputs": [
        {
          "output_type": "execute_result",
          "data": {
            "text/plain": [
              "id                  0\n",
              "acousticness        0\n",
              "danceability        0\n",
              "energy              0\n",
              "explicit            0\n",
              "instrumentalness    0\n",
              "key                 0\n",
              "liveness            0\n",
              "loudness            0\n",
              "mode                0\n",
              "release_date        0\n",
              "speechiness         0\n",
              "tempo               0\n",
              "valence             0\n",
              "year                0\n",
              "duration-min        0\n",
              "popularity          0\n",
              "dtype: int64"
            ]
          },
          "metadata": {
            "tags": []
          },
          "execution_count": 12
        }
      ]
    },
    {
      "cell_type": "code",
      "metadata": {
        "colab": {
          "base_uri": "https://localhost:8080/"
        },
        "id": "SoMKoBCPwZrB",
        "outputId": "18bdb14e-2d65-4870-89cf-1bb12dd52a4a"
      },
      "source": [
        "test_data.isnull().sum()"
      ],
      "execution_count": null,
      "outputs": [
        {
          "output_type": "execute_result",
          "data": {
            "text/plain": [
              "id                  0\n",
              "acousticness        0\n",
              "danceability        0\n",
              "energy              0\n",
              "explicit            0\n",
              "instrumentalness    0\n",
              "key                 0\n",
              "liveness            0\n",
              "loudness            0\n",
              "mode                0\n",
              "release_date        0\n",
              "speechiness         0\n",
              "tempo               0\n",
              "valence             0\n",
              "year                0\n",
              "duration-min        0\n",
              "dtype: int64"
            ]
          },
          "metadata": {
            "tags": []
          },
          "execution_count": 13
        }
      ]
    },
    {
      "cell_type": "code",
      "metadata": {
        "colab": {
          "base_uri": "https://localhost:8080/",
          "height": 195
        },
        "id": "sfRD4d2zoHag",
        "outputId": "6aaf82b8-22d4-44c8-859b-c242141f1d01"
      },
      "source": [
        "categorical_features_train=[feature for feature in train_data.columns if train_data[feature].dtypes=='O']\n",
        "train_data[categorical_features_train].head()"
      ],
      "execution_count": null,
      "outputs": [
        {
          "output_type": "execute_result",
          "data": {
            "text/html": [
              "<div>\n",
              "<style scoped>\n",
              "    .dataframe tbody tr th:only-of-type {\n",
              "        vertical-align: middle;\n",
              "    }\n",
              "\n",
              "    .dataframe tbody tr th {\n",
              "        vertical-align: top;\n",
              "    }\n",
              "\n",
              "    .dataframe thead th {\n",
              "        text-align: right;\n",
              "    }\n",
              "</style>\n",
              "<table border=\"1\" class=\"dataframe\">\n",
              "  <thead>\n",
              "    <tr style=\"text-align: right;\">\n",
              "      <th></th>\n",
              "      <th>explicit</th>\n",
              "      <th>mode</th>\n",
              "      <th>release_date</th>\n",
              "      <th>popularity</th>\n",
              "    </tr>\n",
              "  </thead>\n",
              "  <tbody>\n",
              "    <tr>\n",
              "      <th>0</th>\n",
              "      <td>No</td>\n",
              "      <td>Major</td>\n",
              "      <td>01-01-1947</td>\n",
              "      <td>very low</td>\n",
              "    </tr>\n",
              "    <tr>\n",
              "      <th>1</th>\n",
              "      <td>No</td>\n",
              "      <td>Major</td>\n",
              "      <td>13-11-2020</td>\n",
              "      <td>low</td>\n",
              "    </tr>\n",
              "    <tr>\n",
              "      <th>2</th>\n",
              "      <td>No</td>\n",
              "      <td>Minor</td>\n",
              "      <td>01-01-1950</td>\n",
              "      <td>very low</td>\n",
              "    </tr>\n",
              "    <tr>\n",
              "      <th>3</th>\n",
              "      <td>No</td>\n",
              "      <td>Major</td>\n",
              "      <td>30-04-1974</td>\n",
              "      <td>low</td>\n",
              "    </tr>\n",
              "    <tr>\n",
              "      <th>4</th>\n",
              "      <td>No</td>\n",
              "      <td>Major</td>\n",
              "      <td>01-01-1973</td>\n",
              "      <td>average</td>\n",
              "    </tr>\n",
              "  </tbody>\n",
              "</table>\n",
              "</div>"
            ],
            "text/plain": [
              "  explicit   mode release_date popularity\n",
              "0       No  Major   01-01-1947   very low\n",
              "1       No  Major   13-11-2020        low\n",
              "2       No  Minor   01-01-1950   very low\n",
              "3       No  Major   30-04-1974        low\n",
              "4       No  Major   01-01-1973    average"
            ]
          },
          "metadata": {
            "tags": []
          },
          "execution_count": 14
        }
      ]
    },
    {
      "cell_type": "code",
      "metadata": {
        "colab": {
          "base_uri": "https://localhost:8080/"
        },
        "id": "TTcKUm9sASZh",
        "outputId": "557102e9-8619-4757-a5e1-f8476eada9c0"
      },
      "source": [
        "for feature in categorical_features_train:\n",
        "    print('The feature is {} and number of categories are {}'.format(feature,len(train_data[feature].unique())))"
      ],
      "execution_count": null,
      "outputs": [
        {
          "output_type": "stream",
          "text": [
            "The feature is explicit and number of categories are 2\n",
            "The feature is mode and number of categories are 2\n",
            "The feature is release_date and number of categories are 3859\n",
            "The feature is popularity and number of categories are 5\n"
          ],
          "name": "stdout"
        }
      ]
    },
    {
      "cell_type": "code",
      "metadata": {
        "colab": {
          "base_uri": "https://localhost:8080/"
        },
        "id": "RrAHPyuroXES",
        "outputId": "d16fc4da-21c8-4534-d131-a8c4982573ac"
      },
      "source": [
        "train_data[\"popularity\"].value_counts()"
      ],
      "execution_count": null,
      "outputs": [
        {
          "output_type": "execute_result",
          "data": {
            "text/plain": [
              "very low     3222\n",
              "low          3118\n",
              "average      2912\n",
              "high         2606\n",
              "very high     369\n",
              "Name: popularity, dtype: int64"
            ]
          },
          "metadata": {
            "tags": []
          },
          "execution_count": 16
        }
      ]
    },
    {
      "cell_type": "code",
      "metadata": {
        "id": "OmT2zkPhGktM"
      },
      "source": [
        "cleanup_nums={\"explicit\":{\"No\":0,\"Yes\":1}, \"mode\":{\"Major\":1,\"Minor\":0}, \"popularity\":{\"very low\":0,\"low\":1,\"average\":2,\"high\":3,\"very high\":4}}\n",
        "train_data.replace(cleanup_nums,inplace=True)\n"
      ],
      "execution_count": null,
      "outputs": []
    },
    {
      "cell_type": "code",
      "metadata": {
        "colab": {
          "base_uri": "https://localhost:8080/",
          "height": 402
        },
        "id": "gDpbHGYMKITW",
        "outputId": "94e0b8c2-568a-485c-d18d-d76da8f0b0b6"
      },
      "source": [
        "train_data"
      ],
      "execution_count": null,
      "outputs": [
        {
          "output_type": "execute_result",
          "data": {
            "text/html": [
              "<div>\n",
              "<style scoped>\n",
              "    .dataframe tbody tr th:only-of-type {\n",
              "        vertical-align: middle;\n",
              "    }\n",
              "\n",
              "    .dataframe tbody tr th {\n",
              "        vertical-align: top;\n",
              "    }\n",
              "\n",
              "    .dataframe thead th {\n",
              "        text-align: right;\n",
              "    }\n",
              "</style>\n",
              "<table border=\"1\" class=\"dataframe\">\n",
              "  <thead>\n",
              "    <tr style=\"text-align: right;\">\n",
              "      <th></th>\n",
              "      <th>id</th>\n",
              "      <th>acousticness</th>\n",
              "      <th>danceability</th>\n",
              "      <th>energy</th>\n",
              "      <th>explicit</th>\n",
              "      <th>instrumentalness</th>\n",
              "      <th>key</th>\n",
              "      <th>liveness</th>\n",
              "      <th>loudness</th>\n",
              "      <th>mode</th>\n",
              "      <th>release_date</th>\n",
              "      <th>speechiness</th>\n",
              "      <th>tempo</th>\n",
              "      <th>valence</th>\n",
              "      <th>year</th>\n",
              "      <th>duration-min</th>\n",
              "      <th>popularity</th>\n",
              "    </tr>\n",
              "  </thead>\n",
              "  <tbody>\n",
              "    <tr>\n",
              "      <th>0</th>\n",
              "      <td>2015</td>\n",
              "      <td>0.9490</td>\n",
              "      <td>0.2350</td>\n",
              "      <td>0.0276</td>\n",
              "      <td>0</td>\n",
              "      <td>0.927000</td>\n",
              "      <td>5</td>\n",
              "      <td>0.513</td>\n",
              "      <td>-27.398</td>\n",
              "      <td>1</td>\n",
              "      <td>01-01-1947</td>\n",
              "      <td>0.0381</td>\n",
              "      <td>110.838</td>\n",
              "      <td>0.03980</td>\n",
              "      <td>1947</td>\n",
              "      <td>3.0</td>\n",
              "      <td>0</td>\n",
              "    </tr>\n",
              "    <tr>\n",
              "      <th>1</th>\n",
              "      <td>15901</td>\n",
              "      <td>0.8550</td>\n",
              "      <td>0.4560</td>\n",
              "      <td>0.4850</td>\n",
              "      <td>0</td>\n",
              "      <td>0.088400</td>\n",
              "      <td>4</td>\n",
              "      <td>0.151</td>\n",
              "      <td>-10.046</td>\n",
              "      <td>1</td>\n",
              "      <td>13-11-2020</td>\n",
              "      <td>0.0437</td>\n",
              "      <td>152.066</td>\n",
              "      <td>0.85900</td>\n",
              "      <td>2020</td>\n",
              "      <td>2.4</td>\n",
              "      <td>1</td>\n",
              "    </tr>\n",
              "    <tr>\n",
              "      <th>2</th>\n",
              "      <td>9002</td>\n",
              "      <td>0.8270</td>\n",
              "      <td>0.4950</td>\n",
              "      <td>0.4990</td>\n",
              "      <td>0</td>\n",
              "      <td>0.000000</td>\n",
              "      <td>0</td>\n",
              "      <td>0.401</td>\n",
              "      <td>-8.009</td>\n",
              "      <td>0</td>\n",
              "      <td>01-01-1950</td>\n",
              "      <td>0.0474</td>\n",
              "      <td>108.004</td>\n",
              "      <td>0.70900</td>\n",
              "      <td>1950</td>\n",
              "      <td>2.6</td>\n",
              "      <td>0</td>\n",
              "    </tr>\n",
              "    <tr>\n",
              "      <th>3</th>\n",
              "      <td>6734</td>\n",
              "      <td>0.6540</td>\n",
              "      <td>0.6430</td>\n",
              "      <td>0.4690</td>\n",
              "      <td>0</td>\n",
              "      <td>0.108000</td>\n",
              "      <td>7</td>\n",
              "      <td>0.218</td>\n",
              "      <td>-15.917</td>\n",
              "      <td>1</td>\n",
              "      <td>30-04-1974</td>\n",
              "      <td>0.0368</td>\n",
              "      <td>83.636</td>\n",
              "      <td>0.96400</td>\n",
              "      <td>1974</td>\n",
              "      <td>2.4</td>\n",
              "      <td>1</td>\n",
              "    </tr>\n",
              "    <tr>\n",
              "      <th>4</th>\n",
              "      <td>15563</td>\n",
              "      <td>0.7380</td>\n",
              "      <td>0.7050</td>\n",
              "      <td>0.3110</td>\n",
              "      <td>0</td>\n",
              "      <td>0.000000</td>\n",
              "      <td>5</td>\n",
              "      <td>0.322</td>\n",
              "      <td>-12.344</td>\n",
              "      <td>1</td>\n",
              "      <td>01-01-1973</td>\n",
              "      <td>0.0488</td>\n",
              "      <td>117.260</td>\n",
              "      <td>0.78500</td>\n",
              "      <td>1973</td>\n",
              "      <td>3.4</td>\n",
              "      <td>2</td>\n",
              "    </tr>\n",
              "    <tr>\n",
              "      <th>...</th>\n",
              "      <td>...</td>\n",
              "      <td>...</td>\n",
              "      <td>...</td>\n",
              "      <td>...</td>\n",
              "      <td>...</td>\n",
              "      <td>...</td>\n",
              "      <td>...</td>\n",
              "      <td>...</td>\n",
              "      <td>...</td>\n",
              "      <td>...</td>\n",
              "      <td>...</td>\n",
              "      <td>...</td>\n",
              "      <td>...</td>\n",
              "      <td>...</td>\n",
              "      <td>...</td>\n",
              "      <td>...</td>\n",
              "      <td>...</td>\n",
              "    </tr>\n",
              "    <tr>\n",
              "      <th>12222</th>\n",
              "      <td>15343</td>\n",
              "      <td>0.0408</td>\n",
              "      <td>0.8090</td>\n",
              "      <td>0.8010</td>\n",
              "      <td>0</td>\n",
              "      <td>0.000000</td>\n",
              "      <td>1</td>\n",
              "      <td>0.353</td>\n",
              "      <td>-5.461</td>\n",
              "      <td>1</td>\n",
              "      <td>01-07-2014</td>\n",
              "      <td>0.4070</td>\n",
              "      <td>81.940</td>\n",
              "      <td>0.74400</td>\n",
              "      <td>2014</td>\n",
              "      <td>3.4</td>\n",
              "      <td>2</td>\n",
              "    </tr>\n",
              "    <tr>\n",
              "      <th>12223</th>\n",
              "      <td>1701</td>\n",
              "      <td>0.9120</td>\n",
              "      <td>0.4510</td>\n",
              "      <td>0.2400</td>\n",
              "      <td>0</td>\n",
              "      <td>0.000002</td>\n",
              "      <td>1</td>\n",
              "      <td>0.175</td>\n",
              "      <td>-14.014</td>\n",
              "      <td>1</td>\n",
              "      <td>01-01-1959</td>\n",
              "      <td>0.0351</td>\n",
              "      <td>134.009</td>\n",
              "      <td>0.70100</td>\n",
              "      <td>1959</td>\n",
              "      <td>2.0</td>\n",
              "      <td>4</td>\n",
              "    </tr>\n",
              "    <tr>\n",
              "      <th>12224</th>\n",
              "      <td>3351</td>\n",
              "      <td>0.3280</td>\n",
              "      <td>0.5510</td>\n",
              "      <td>0.5640</td>\n",
              "      <td>0</td>\n",
              "      <td>0.002950</td>\n",
              "      <td>2</td>\n",
              "      <td>0.352</td>\n",
              "      <td>-9.298</td>\n",
              "      <td>0</td>\n",
              "      <td>01-01-1984</td>\n",
              "      <td>0.0338</td>\n",
              "      <td>124.883</td>\n",
              "      <td>0.89000</td>\n",
              "      <td>1984</td>\n",
              "      <td>2.5</td>\n",
              "      <td>1</td>\n",
              "    </tr>\n",
              "    <tr>\n",
              "      <th>12225</th>\n",
              "      <td>8879</td>\n",
              "      <td>0.1220</td>\n",
              "      <td>0.0608</td>\n",
              "      <td>0.9390</td>\n",
              "      <td>0</td>\n",
              "      <td>0.991000</td>\n",
              "      <td>1</td>\n",
              "      <td>0.912</td>\n",
              "      <td>-26.324</td>\n",
              "      <td>1</td>\n",
              "      <td>09-01-2017</td>\n",
              "      <td>0.1180</td>\n",
              "      <td>73.234</td>\n",
              "      <td>0.00558</td>\n",
              "      <td>2017</td>\n",
              "      <td>3.1</td>\n",
              "      <td>3</td>\n",
              "    </tr>\n",
              "    <tr>\n",
              "      <th>12226</th>\n",
              "      <td>9711</td>\n",
              "      <td>0.0380</td>\n",
              "      <td>0.3890</td>\n",
              "      <td>0.7680</td>\n",
              "      <td>1</td>\n",
              "      <td>0.000000</td>\n",
              "      <td>1</td>\n",
              "      <td>0.119</td>\n",
              "      <td>-4.765</td>\n",
              "      <td>1</td>\n",
              "      <td>24-07-2020</td>\n",
              "      <td>0.2560</td>\n",
              "      <td>90.146</td>\n",
              "      <td>0.33400</td>\n",
              "      <td>2020</td>\n",
              "      <td>3.1</td>\n",
              "      <td>3</td>\n",
              "    </tr>\n",
              "  </tbody>\n",
              "</table>\n",
              "<p>12227 rows × 17 columns</p>\n",
              "</div>"
            ],
            "text/plain": [
              "          id  acousticness  danceability  ...  year  duration-min  popularity\n",
              "0       2015        0.9490        0.2350  ...  1947           3.0           0\n",
              "1      15901        0.8550        0.4560  ...  2020           2.4           1\n",
              "2       9002        0.8270        0.4950  ...  1950           2.6           0\n",
              "3       6734        0.6540        0.6430  ...  1974           2.4           1\n",
              "4      15563        0.7380        0.7050  ...  1973           3.4           2\n",
              "...      ...           ...           ...  ...   ...           ...         ...\n",
              "12222  15343        0.0408        0.8090  ...  2014           3.4           2\n",
              "12223   1701        0.9120        0.4510  ...  1959           2.0           4\n",
              "12224   3351        0.3280        0.5510  ...  1984           2.5           1\n",
              "12225   8879        0.1220        0.0608  ...  2017           3.1           3\n",
              "12226   9711        0.0380        0.3890  ...  2020           3.1           3\n",
              "\n",
              "[12227 rows x 17 columns]"
            ]
          },
          "metadata": {
            "tags": []
          },
          "execution_count": 18
        }
      ]
    },
    {
      "cell_type": "code",
      "metadata": {
        "id": "jYGZ3LbDj3vO"
      },
      "source": [
        "train_data.drop(['id','release_date'],axis=1,inplace=True)"
      ],
      "execution_count": null,
      "outputs": []
    },
    {
      "cell_type": "code",
      "metadata": {
        "colab": {
          "base_uri": "https://localhost:8080/",
          "height": 195
        },
        "id": "Vg6r1udmXLWG",
        "outputId": "78137298-6ce6-4139-c5ec-b0dceb709be3"
      },
      "source": [
        "train_data.head()"
      ],
      "execution_count": null,
      "outputs": [
        {
          "output_type": "execute_result",
          "data": {
            "text/html": [
              "<div>\n",
              "<style scoped>\n",
              "    .dataframe tbody tr th:only-of-type {\n",
              "        vertical-align: middle;\n",
              "    }\n",
              "\n",
              "    .dataframe tbody tr th {\n",
              "        vertical-align: top;\n",
              "    }\n",
              "\n",
              "    .dataframe thead th {\n",
              "        text-align: right;\n",
              "    }\n",
              "</style>\n",
              "<table border=\"1\" class=\"dataframe\">\n",
              "  <thead>\n",
              "    <tr style=\"text-align: right;\">\n",
              "      <th></th>\n",
              "      <th>acousticness</th>\n",
              "      <th>danceability</th>\n",
              "      <th>energy</th>\n",
              "      <th>explicit</th>\n",
              "      <th>instrumentalness</th>\n",
              "      <th>key</th>\n",
              "      <th>liveness</th>\n",
              "      <th>loudness</th>\n",
              "      <th>mode</th>\n",
              "      <th>speechiness</th>\n",
              "      <th>tempo</th>\n",
              "      <th>valence</th>\n",
              "      <th>year</th>\n",
              "      <th>duration-min</th>\n",
              "      <th>popularity</th>\n",
              "    </tr>\n",
              "  </thead>\n",
              "  <tbody>\n",
              "    <tr>\n",
              "      <th>0</th>\n",
              "      <td>0.949</td>\n",
              "      <td>0.235</td>\n",
              "      <td>0.0276</td>\n",
              "      <td>0</td>\n",
              "      <td>0.9270</td>\n",
              "      <td>5</td>\n",
              "      <td>0.513</td>\n",
              "      <td>-27.398</td>\n",
              "      <td>1</td>\n",
              "      <td>0.0381</td>\n",
              "      <td>110.838</td>\n",
              "      <td>0.0398</td>\n",
              "      <td>1947</td>\n",
              "      <td>3.0</td>\n",
              "      <td>0</td>\n",
              "    </tr>\n",
              "    <tr>\n",
              "      <th>1</th>\n",
              "      <td>0.855</td>\n",
              "      <td>0.456</td>\n",
              "      <td>0.4850</td>\n",
              "      <td>0</td>\n",
              "      <td>0.0884</td>\n",
              "      <td>4</td>\n",
              "      <td>0.151</td>\n",
              "      <td>-10.046</td>\n",
              "      <td>1</td>\n",
              "      <td>0.0437</td>\n",
              "      <td>152.066</td>\n",
              "      <td>0.8590</td>\n",
              "      <td>2020</td>\n",
              "      <td>2.4</td>\n",
              "      <td>1</td>\n",
              "    </tr>\n",
              "    <tr>\n",
              "      <th>2</th>\n",
              "      <td>0.827</td>\n",
              "      <td>0.495</td>\n",
              "      <td>0.4990</td>\n",
              "      <td>0</td>\n",
              "      <td>0.0000</td>\n",
              "      <td>0</td>\n",
              "      <td>0.401</td>\n",
              "      <td>-8.009</td>\n",
              "      <td>0</td>\n",
              "      <td>0.0474</td>\n",
              "      <td>108.004</td>\n",
              "      <td>0.7090</td>\n",
              "      <td>1950</td>\n",
              "      <td>2.6</td>\n",
              "      <td>0</td>\n",
              "    </tr>\n",
              "    <tr>\n",
              "      <th>3</th>\n",
              "      <td>0.654</td>\n",
              "      <td>0.643</td>\n",
              "      <td>0.4690</td>\n",
              "      <td>0</td>\n",
              "      <td>0.1080</td>\n",
              "      <td>7</td>\n",
              "      <td>0.218</td>\n",
              "      <td>-15.917</td>\n",
              "      <td>1</td>\n",
              "      <td>0.0368</td>\n",
              "      <td>83.636</td>\n",
              "      <td>0.9640</td>\n",
              "      <td>1974</td>\n",
              "      <td>2.4</td>\n",
              "      <td>1</td>\n",
              "    </tr>\n",
              "    <tr>\n",
              "      <th>4</th>\n",
              "      <td>0.738</td>\n",
              "      <td>0.705</td>\n",
              "      <td>0.3110</td>\n",
              "      <td>0</td>\n",
              "      <td>0.0000</td>\n",
              "      <td>5</td>\n",
              "      <td>0.322</td>\n",
              "      <td>-12.344</td>\n",
              "      <td>1</td>\n",
              "      <td>0.0488</td>\n",
              "      <td>117.260</td>\n",
              "      <td>0.7850</td>\n",
              "      <td>1973</td>\n",
              "      <td>3.4</td>\n",
              "      <td>2</td>\n",
              "    </tr>\n",
              "  </tbody>\n",
              "</table>\n",
              "</div>"
            ],
            "text/plain": [
              "   acousticness  danceability  energy  ...  year  duration-min  popularity\n",
              "0         0.949         0.235  0.0276  ...  1947           3.0           0\n",
              "1         0.855         0.456  0.4850  ...  2020           2.4           1\n",
              "2         0.827         0.495  0.4990  ...  1950           2.6           0\n",
              "3         0.654         0.643  0.4690  ...  1974           2.4           1\n",
              "4         0.738         0.705  0.3110  ...  1973           3.4           2\n",
              "\n",
              "[5 rows x 15 columns]"
            ]
          },
          "metadata": {
            "tags": []
          },
          "execution_count": 20
        }
      ]
    },
    {
      "cell_type": "code",
      "metadata": {
        "id": "8D-_BEIKkheH"
      },
      "source": [
        "X=train_data.iloc[:,:14]\n",
        "y=train_data.iloc[:,-1]"
      ],
      "execution_count": null,
      "outputs": []
    },
    {
      "cell_type": "code",
      "metadata": {
        "colab": {
          "base_uri": "https://localhost:8080/",
          "height": 195
        },
        "id": "7fyVbu8PxqQH",
        "outputId": "5b59c953-4312-4330-f6cd-35ec659a9f54"
      },
      "source": [
        "X.head()"
      ],
      "execution_count": null,
      "outputs": [
        {
          "output_type": "execute_result",
          "data": {
            "text/html": [
              "<div>\n",
              "<style scoped>\n",
              "    .dataframe tbody tr th:only-of-type {\n",
              "        vertical-align: middle;\n",
              "    }\n",
              "\n",
              "    .dataframe tbody tr th {\n",
              "        vertical-align: top;\n",
              "    }\n",
              "\n",
              "    .dataframe thead th {\n",
              "        text-align: right;\n",
              "    }\n",
              "</style>\n",
              "<table border=\"1\" class=\"dataframe\">\n",
              "  <thead>\n",
              "    <tr style=\"text-align: right;\">\n",
              "      <th></th>\n",
              "      <th>acousticness</th>\n",
              "      <th>danceability</th>\n",
              "      <th>energy</th>\n",
              "      <th>explicit</th>\n",
              "      <th>instrumentalness</th>\n",
              "      <th>key</th>\n",
              "      <th>liveness</th>\n",
              "      <th>loudness</th>\n",
              "      <th>mode</th>\n",
              "      <th>speechiness</th>\n",
              "      <th>tempo</th>\n",
              "      <th>valence</th>\n",
              "      <th>year</th>\n",
              "      <th>duration-min</th>\n",
              "    </tr>\n",
              "  </thead>\n",
              "  <tbody>\n",
              "    <tr>\n",
              "      <th>0</th>\n",
              "      <td>0.949</td>\n",
              "      <td>0.235</td>\n",
              "      <td>0.0276</td>\n",
              "      <td>0</td>\n",
              "      <td>0.9270</td>\n",
              "      <td>5</td>\n",
              "      <td>0.513</td>\n",
              "      <td>-27.398</td>\n",
              "      <td>1</td>\n",
              "      <td>0.0381</td>\n",
              "      <td>110.838</td>\n",
              "      <td>0.0398</td>\n",
              "      <td>1947</td>\n",
              "      <td>3.0</td>\n",
              "    </tr>\n",
              "    <tr>\n",
              "      <th>1</th>\n",
              "      <td>0.855</td>\n",
              "      <td>0.456</td>\n",
              "      <td>0.4850</td>\n",
              "      <td>0</td>\n",
              "      <td>0.0884</td>\n",
              "      <td>4</td>\n",
              "      <td>0.151</td>\n",
              "      <td>-10.046</td>\n",
              "      <td>1</td>\n",
              "      <td>0.0437</td>\n",
              "      <td>152.066</td>\n",
              "      <td>0.8590</td>\n",
              "      <td>2020</td>\n",
              "      <td>2.4</td>\n",
              "    </tr>\n",
              "    <tr>\n",
              "      <th>2</th>\n",
              "      <td>0.827</td>\n",
              "      <td>0.495</td>\n",
              "      <td>0.4990</td>\n",
              "      <td>0</td>\n",
              "      <td>0.0000</td>\n",
              "      <td>0</td>\n",
              "      <td>0.401</td>\n",
              "      <td>-8.009</td>\n",
              "      <td>0</td>\n",
              "      <td>0.0474</td>\n",
              "      <td>108.004</td>\n",
              "      <td>0.7090</td>\n",
              "      <td>1950</td>\n",
              "      <td>2.6</td>\n",
              "    </tr>\n",
              "    <tr>\n",
              "      <th>3</th>\n",
              "      <td>0.654</td>\n",
              "      <td>0.643</td>\n",
              "      <td>0.4690</td>\n",
              "      <td>0</td>\n",
              "      <td>0.1080</td>\n",
              "      <td>7</td>\n",
              "      <td>0.218</td>\n",
              "      <td>-15.917</td>\n",
              "      <td>1</td>\n",
              "      <td>0.0368</td>\n",
              "      <td>83.636</td>\n",
              "      <td>0.9640</td>\n",
              "      <td>1974</td>\n",
              "      <td>2.4</td>\n",
              "    </tr>\n",
              "    <tr>\n",
              "      <th>4</th>\n",
              "      <td>0.738</td>\n",
              "      <td>0.705</td>\n",
              "      <td>0.3110</td>\n",
              "      <td>0</td>\n",
              "      <td>0.0000</td>\n",
              "      <td>5</td>\n",
              "      <td>0.322</td>\n",
              "      <td>-12.344</td>\n",
              "      <td>1</td>\n",
              "      <td>0.0488</td>\n",
              "      <td>117.260</td>\n",
              "      <td>0.7850</td>\n",
              "      <td>1973</td>\n",
              "      <td>3.4</td>\n",
              "    </tr>\n",
              "  </tbody>\n",
              "</table>\n",
              "</div>"
            ],
            "text/plain": [
              "   acousticness  danceability  energy  ...  valence  year  duration-min\n",
              "0         0.949         0.235  0.0276  ...   0.0398  1947           3.0\n",
              "1         0.855         0.456  0.4850  ...   0.8590  2020           2.4\n",
              "2         0.827         0.495  0.4990  ...   0.7090  1950           2.6\n",
              "3         0.654         0.643  0.4690  ...   0.9640  1974           2.4\n",
              "4         0.738         0.705  0.3110  ...   0.7850  1973           3.4\n",
              "\n",
              "[5 rows x 14 columns]"
            ]
          },
          "metadata": {
            "tags": []
          },
          "execution_count": 22
        }
      ]
    },
    {
      "cell_type": "code",
      "metadata": {
        "colab": {
          "base_uri": "https://localhost:8080/"
        },
        "id": "VoLgx6mtxy4E",
        "outputId": "163820a6-34b6-4b03-bd73-974b580bf2d4"
      },
      "source": [
        "y"
      ],
      "execution_count": null,
      "outputs": [
        {
          "output_type": "execute_result",
          "data": {
            "text/plain": [
              "0        0\n",
              "1        1\n",
              "2        0\n",
              "3        1\n",
              "4        2\n",
              "        ..\n",
              "12222    2\n",
              "12223    4\n",
              "12224    1\n",
              "12225    3\n",
              "12226    3\n",
              "Name: popularity, Length: 12227, dtype: int64"
            ]
          },
          "metadata": {
            "tags": []
          },
          "execution_count": 23
        }
      ]
    },
    {
      "cell_type": "code",
      "metadata": {
        "id": "gA4f30TzyRcN"
      },
      "source": [
        "#from sklearn.preprocessing import StandardScaler\n",
        "#X_train=StandardScaler().fit_transform(X_train)\n",
        "#X_test=StandardScaler().fit_transform(X_test)"
      ],
      "execution_count": null,
      "outputs": []
    },
    {
      "cell_type": "code",
      "metadata": {
        "id": "-F1JjHxMttZ9"
      },
      "source": [
        "X['total_beats']=X['tempo'] * X['duration-min']"
      ],
      "execution_count": null,
      "outputs": []
    },
    {
      "cell_type": "code",
      "metadata": {
        "colab": {
          "base_uri": "https://localhost:8080/",
          "height": 195
        },
        "id": "KnH8ZFZAvE8I",
        "outputId": "3a167402-aa8c-4aa3-daa1-903008e30d33"
      },
      "source": [
        "X.head()"
      ],
      "execution_count": null,
      "outputs": [
        {
          "output_type": "execute_result",
          "data": {
            "text/html": [
              "<div>\n",
              "<style scoped>\n",
              "    .dataframe tbody tr th:only-of-type {\n",
              "        vertical-align: middle;\n",
              "    }\n",
              "\n",
              "    .dataframe tbody tr th {\n",
              "        vertical-align: top;\n",
              "    }\n",
              "\n",
              "    .dataframe thead th {\n",
              "        text-align: right;\n",
              "    }\n",
              "</style>\n",
              "<table border=\"1\" class=\"dataframe\">\n",
              "  <thead>\n",
              "    <tr style=\"text-align: right;\">\n",
              "      <th></th>\n",
              "      <th>acousticness</th>\n",
              "      <th>danceability</th>\n",
              "      <th>energy</th>\n",
              "      <th>explicit</th>\n",
              "      <th>instrumentalness</th>\n",
              "      <th>key</th>\n",
              "      <th>liveness</th>\n",
              "      <th>loudness</th>\n",
              "      <th>mode</th>\n",
              "      <th>speechiness</th>\n",
              "      <th>tempo</th>\n",
              "      <th>valence</th>\n",
              "      <th>year</th>\n",
              "      <th>duration-min</th>\n",
              "      <th>total_beats</th>\n",
              "    </tr>\n",
              "  </thead>\n",
              "  <tbody>\n",
              "    <tr>\n",
              "      <th>0</th>\n",
              "      <td>0.949</td>\n",
              "      <td>0.235</td>\n",
              "      <td>0.0276</td>\n",
              "      <td>0</td>\n",
              "      <td>0.9270</td>\n",
              "      <td>5</td>\n",
              "      <td>0.513</td>\n",
              "      <td>-27.398</td>\n",
              "      <td>1</td>\n",
              "      <td>0.0381</td>\n",
              "      <td>110.838</td>\n",
              "      <td>0.0398</td>\n",
              "      <td>1947</td>\n",
              "      <td>3.0</td>\n",
              "      <td>332.5140</td>\n",
              "    </tr>\n",
              "    <tr>\n",
              "      <th>1</th>\n",
              "      <td>0.855</td>\n",
              "      <td>0.456</td>\n",
              "      <td>0.4850</td>\n",
              "      <td>0</td>\n",
              "      <td>0.0884</td>\n",
              "      <td>4</td>\n",
              "      <td>0.151</td>\n",
              "      <td>-10.046</td>\n",
              "      <td>1</td>\n",
              "      <td>0.0437</td>\n",
              "      <td>152.066</td>\n",
              "      <td>0.8590</td>\n",
              "      <td>2020</td>\n",
              "      <td>2.4</td>\n",
              "      <td>364.9584</td>\n",
              "    </tr>\n",
              "    <tr>\n",
              "      <th>2</th>\n",
              "      <td>0.827</td>\n",
              "      <td>0.495</td>\n",
              "      <td>0.4990</td>\n",
              "      <td>0</td>\n",
              "      <td>0.0000</td>\n",
              "      <td>0</td>\n",
              "      <td>0.401</td>\n",
              "      <td>-8.009</td>\n",
              "      <td>0</td>\n",
              "      <td>0.0474</td>\n",
              "      <td>108.004</td>\n",
              "      <td>0.7090</td>\n",
              "      <td>1950</td>\n",
              "      <td>2.6</td>\n",
              "      <td>280.8104</td>\n",
              "    </tr>\n",
              "    <tr>\n",
              "      <th>3</th>\n",
              "      <td>0.654</td>\n",
              "      <td>0.643</td>\n",
              "      <td>0.4690</td>\n",
              "      <td>0</td>\n",
              "      <td>0.1080</td>\n",
              "      <td>7</td>\n",
              "      <td>0.218</td>\n",
              "      <td>-15.917</td>\n",
              "      <td>1</td>\n",
              "      <td>0.0368</td>\n",
              "      <td>83.636</td>\n",
              "      <td>0.9640</td>\n",
              "      <td>1974</td>\n",
              "      <td>2.4</td>\n",
              "      <td>200.7264</td>\n",
              "    </tr>\n",
              "    <tr>\n",
              "      <th>4</th>\n",
              "      <td>0.738</td>\n",
              "      <td>0.705</td>\n",
              "      <td>0.3110</td>\n",
              "      <td>0</td>\n",
              "      <td>0.0000</td>\n",
              "      <td>5</td>\n",
              "      <td>0.322</td>\n",
              "      <td>-12.344</td>\n",
              "      <td>1</td>\n",
              "      <td>0.0488</td>\n",
              "      <td>117.260</td>\n",
              "      <td>0.7850</td>\n",
              "      <td>1973</td>\n",
              "      <td>3.4</td>\n",
              "      <td>398.6840</td>\n",
              "    </tr>\n",
              "  </tbody>\n",
              "</table>\n",
              "</div>"
            ],
            "text/plain": [
              "   acousticness  danceability  energy  ...  year  duration-min  total_beats\n",
              "0         0.949         0.235  0.0276  ...  1947           3.0     332.5140\n",
              "1         0.855         0.456  0.4850  ...  2020           2.4     364.9584\n",
              "2         0.827         0.495  0.4990  ...  1950           2.6     280.8104\n",
              "3         0.654         0.643  0.4690  ...  1974           2.4     200.7264\n",
              "4         0.738         0.705  0.3110  ...  1973           3.4     398.6840\n",
              "\n",
              "[5 rows x 15 columns]"
            ]
          },
          "metadata": {
            "tags": []
          },
          "execution_count": 26
        }
      ]
    },
    {
      "cell_type": "code",
      "metadata": {
        "id": "Fr7QpCzIWH5R"
      },
      "source": [
        "#from sklearn.preprocessing import StandardScaler\n",
        "#X=StandardScaler().fit_transform(X)"
      ],
      "execution_count": null,
      "outputs": []
    },
    {
      "cell_type": "code",
      "metadata": {
        "colab": {
          "base_uri": "https://localhost:8080/",
          "height": 195
        },
        "id": "AlDp9_b1q79S",
        "outputId": "256a730b-2234-4b96-8d45-33b3e7265a2f"
      },
      "source": [
        "X = pd.DataFrame(X)\n",
        "X.head()"
      ],
      "execution_count": null,
      "outputs": [
        {
          "output_type": "execute_result",
          "data": {
            "text/html": [
              "<div>\n",
              "<style scoped>\n",
              "    .dataframe tbody tr th:only-of-type {\n",
              "        vertical-align: middle;\n",
              "    }\n",
              "\n",
              "    .dataframe tbody tr th {\n",
              "        vertical-align: top;\n",
              "    }\n",
              "\n",
              "    .dataframe thead th {\n",
              "        text-align: right;\n",
              "    }\n",
              "</style>\n",
              "<table border=\"1\" class=\"dataframe\">\n",
              "  <thead>\n",
              "    <tr style=\"text-align: right;\">\n",
              "      <th></th>\n",
              "      <th>acousticness</th>\n",
              "      <th>danceability</th>\n",
              "      <th>energy</th>\n",
              "      <th>explicit</th>\n",
              "      <th>instrumentalness</th>\n",
              "      <th>key</th>\n",
              "      <th>liveness</th>\n",
              "      <th>loudness</th>\n",
              "      <th>mode</th>\n",
              "      <th>speechiness</th>\n",
              "      <th>tempo</th>\n",
              "      <th>valence</th>\n",
              "      <th>year</th>\n",
              "      <th>duration-min</th>\n",
              "      <th>total_beats</th>\n",
              "    </tr>\n",
              "  </thead>\n",
              "  <tbody>\n",
              "    <tr>\n",
              "      <th>0</th>\n",
              "      <td>0.949</td>\n",
              "      <td>0.235</td>\n",
              "      <td>0.0276</td>\n",
              "      <td>0</td>\n",
              "      <td>0.9270</td>\n",
              "      <td>5</td>\n",
              "      <td>0.513</td>\n",
              "      <td>-27.398</td>\n",
              "      <td>1</td>\n",
              "      <td>0.0381</td>\n",
              "      <td>110.838</td>\n",
              "      <td>0.0398</td>\n",
              "      <td>1947</td>\n",
              "      <td>3.0</td>\n",
              "      <td>332.5140</td>\n",
              "    </tr>\n",
              "    <tr>\n",
              "      <th>1</th>\n",
              "      <td>0.855</td>\n",
              "      <td>0.456</td>\n",
              "      <td>0.4850</td>\n",
              "      <td>0</td>\n",
              "      <td>0.0884</td>\n",
              "      <td>4</td>\n",
              "      <td>0.151</td>\n",
              "      <td>-10.046</td>\n",
              "      <td>1</td>\n",
              "      <td>0.0437</td>\n",
              "      <td>152.066</td>\n",
              "      <td>0.8590</td>\n",
              "      <td>2020</td>\n",
              "      <td>2.4</td>\n",
              "      <td>364.9584</td>\n",
              "    </tr>\n",
              "    <tr>\n",
              "      <th>2</th>\n",
              "      <td>0.827</td>\n",
              "      <td>0.495</td>\n",
              "      <td>0.4990</td>\n",
              "      <td>0</td>\n",
              "      <td>0.0000</td>\n",
              "      <td>0</td>\n",
              "      <td>0.401</td>\n",
              "      <td>-8.009</td>\n",
              "      <td>0</td>\n",
              "      <td>0.0474</td>\n",
              "      <td>108.004</td>\n",
              "      <td>0.7090</td>\n",
              "      <td>1950</td>\n",
              "      <td>2.6</td>\n",
              "      <td>280.8104</td>\n",
              "    </tr>\n",
              "    <tr>\n",
              "      <th>3</th>\n",
              "      <td>0.654</td>\n",
              "      <td>0.643</td>\n",
              "      <td>0.4690</td>\n",
              "      <td>0</td>\n",
              "      <td>0.1080</td>\n",
              "      <td>7</td>\n",
              "      <td>0.218</td>\n",
              "      <td>-15.917</td>\n",
              "      <td>1</td>\n",
              "      <td>0.0368</td>\n",
              "      <td>83.636</td>\n",
              "      <td>0.9640</td>\n",
              "      <td>1974</td>\n",
              "      <td>2.4</td>\n",
              "      <td>200.7264</td>\n",
              "    </tr>\n",
              "    <tr>\n",
              "      <th>4</th>\n",
              "      <td>0.738</td>\n",
              "      <td>0.705</td>\n",
              "      <td>0.3110</td>\n",
              "      <td>0</td>\n",
              "      <td>0.0000</td>\n",
              "      <td>5</td>\n",
              "      <td>0.322</td>\n",
              "      <td>-12.344</td>\n",
              "      <td>1</td>\n",
              "      <td>0.0488</td>\n",
              "      <td>117.260</td>\n",
              "      <td>0.7850</td>\n",
              "      <td>1973</td>\n",
              "      <td>3.4</td>\n",
              "      <td>398.6840</td>\n",
              "    </tr>\n",
              "  </tbody>\n",
              "</table>\n",
              "</div>"
            ],
            "text/plain": [
              "   acousticness  danceability  energy  ...  year  duration-min  total_beats\n",
              "0         0.949         0.235  0.0276  ...  1947           3.0     332.5140\n",
              "1         0.855         0.456  0.4850  ...  2020           2.4     364.9584\n",
              "2         0.827         0.495  0.4990  ...  1950           2.6     280.8104\n",
              "3         0.654         0.643  0.4690  ...  1974           2.4     200.7264\n",
              "4         0.738         0.705  0.3110  ...  1973           3.4     398.6840\n",
              "\n",
              "[5 rows x 15 columns]"
            ]
          },
          "metadata": {
            "tags": []
          },
          "execution_count": 28
        }
      ]
    },
    {
      "cell_type": "code",
      "metadata": {
        "id": "tRPnwrxUq9jH"
      },
      "source": [
        "X['decade'] = pd.Series(dtype='int')"
      ],
      "execution_count": null,
      "outputs": []
    },
    {
      "cell_type": "code",
      "metadata": {
        "colab": {
          "base_uri": "https://localhost:8080/"
        },
        "id": "bNSzLhwQsZLB",
        "outputId": "c4de5cf6-dc53-45e2-fa14-00d9fd63f041"
      },
      "source": [
        "X['year'][1]"
      ],
      "execution_count": null,
      "outputs": [
        {
          "output_type": "execute_result",
          "data": {
            "text/plain": [
              "2020"
            ]
          },
          "metadata": {
            "tags": []
          },
          "execution_count": 30
        }
      ]
    },
    {
      "cell_type": "code",
      "metadata": {
        "colab": {
          "base_uri": "https://localhost:8080/"
        },
        "id": "Sknh-LCSq_PA",
        "outputId": "54e3b39f-3c60-4d27-80c3-660fcadb71e3"
      },
      "source": [
        "for i in range(len(X['year'])):\n",
        "  if(X['year'][i]<1931):\n",
        "    X['decade'][i] = 0\n",
        "  elif(X['year'][i]<1941):\n",
        "    X['decade'][i] = 1\n",
        "  elif(X['year'][i]<1951):\n",
        "    X['decade'][i] = 2\n",
        "  elif(X['year'][i]<1961):\n",
        "    X['decade'][i] = 3\n",
        "  elif(X['year'][i]<1971):\n",
        "    X['decade'][i] = 4\n",
        "  elif(X['year'][i]<1981):\n",
        "    X['decade'][i] = 5\n",
        "  elif(X['year'][i]<1991):\n",
        "    X['decade'][i] = 6\n",
        "  elif(X['year'][i]<2001):\n",
        "    X['decade'][i] = 7\n",
        "  elif(X['year'][i]<2011):\n",
        "    X['decade'][i] = 8\n",
        "  else:\n",
        "    X['decade'][i] = 9"
      ],
      "execution_count": null,
      "outputs": [
        {
          "output_type": "stream",
          "text": [
            "/usr/local/lib/python3.7/dist-packages/ipykernel_launcher.py:7: SettingWithCopyWarning: \n",
            "A value is trying to be set on a copy of a slice from a DataFrame\n",
            "\n",
            "See the caveats in the documentation: https://pandas.pydata.org/pandas-docs/stable/user_guide/indexing.html#returning-a-view-versus-a-copy\n",
            "  import sys\n",
            "/usr/local/lib/python3.7/dist-packages/ipykernel_launcher.py:21: SettingWithCopyWarning: \n",
            "A value is trying to be set on a copy of a slice from a DataFrame\n",
            "\n",
            "See the caveats in the documentation: https://pandas.pydata.org/pandas-docs/stable/user_guide/indexing.html#returning-a-view-versus-a-copy\n",
            "/usr/local/lib/python3.7/dist-packages/ipykernel_launcher.py:13: SettingWithCopyWarning: \n",
            "A value is trying to be set on a copy of a slice from a DataFrame\n",
            "\n",
            "See the caveats in the documentation: https://pandas.pydata.org/pandas-docs/stable/user_guide/indexing.html#returning-a-view-versus-a-copy\n",
            "  del sys.path[0]\n",
            "/usr/local/lib/python3.7/dist-packages/ipykernel_launcher.py:11: SettingWithCopyWarning: \n",
            "A value is trying to be set on a copy of a slice from a DataFrame\n",
            "\n",
            "See the caveats in the documentation: https://pandas.pydata.org/pandas-docs/stable/user_guide/indexing.html#returning-a-view-versus-a-copy\n",
            "  # This is added back by InteractiveShellApp.init_path()\n",
            "/usr/local/lib/python3.7/dist-packages/ipykernel_launcher.py:19: SettingWithCopyWarning: \n",
            "A value is trying to be set on a copy of a slice from a DataFrame\n",
            "\n",
            "See the caveats in the documentation: https://pandas.pydata.org/pandas-docs/stable/user_guide/indexing.html#returning-a-view-versus-a-copy\n",
            "/usr/local/lib/python3.7/dist-packages/ipykernel_launcher.py:17: SettingWithCopyWarning: \n",
            "A value is trying to be set on a copy of a slice from a DataFrame\n",
            "\n",
            "See the caveats in the documentation: https://pandas.pydata.org/pandas-docs/stable/user_guide/indexing.html#returning-a-view-versus-a-copy\n",
            "/usr/local/lib/python3.7/dist-packages/ipykernel_launcher.py:15: SettingWithCopyWarning: \n",
            "A value is trying to be set on a copy of a slice from a DataFrame\n",
            "\n",
            "See the caveats in the documentation: https://pandas.pydata.org/pandas-docs/stable/user_guide/indexing.html#returning-a-view-versus-a-copy\n",
            "  from ipykernel import kernelapp as app\n",
            "/usr/local/lib/python3.7/dist-packages/ipykernel_launcher.py:9: SettingWithCopyWarning: \n",
            "A value is trying to be set on a copy of a slice from a DataFrame\n",
            "\n",
            "See the caveats in the documentation: https://pandas.pydata.org/pandas-docs/stable/user_guide/indexing.html#returning-a-view-versus-a-copy\n",
            "  if __name__ == '__main__':\n",
            "/usr/local/lib/python3.7/dist-packages/ipykernel_launcher.py:3: SettingWithCopyWarning: \n",
            "A value is trying to be set on a copy of a slice from a DataFrame\n",
            "\n",
            "See the caveats in the documentation: https://pandas.pydata.org/pandas-docs/stable/user_guide/indexing.html#returning-a-view-versus-a-copy\n",
            "  This is separate from the ipykernel package so we can avoid doing imports until\n",
            "/usr/local/lib/python3.7/dist-packages/ipykernel_launcher.py:5: SettingWithCopyWarning: \n",
            "A value is trying to be set on a copy of a slice from a DataFrame\n",
            "\n",
            "See the caveats in the documentation: https://pandas.pydata.org/pandas-docs/stable/user_guide/indexing.html#returning-a-view-versus-a-copy\n",
            "  \"\"\"\n"
          ],
          "name": "stderr"
        }
      ]
    },
    {
      "cell_type": "code",
      "metadata": {
        "colab": {
          "base_uri": "https://localhost:8080/"
        },
        "id": "KrrsRLBGrJ_5",
        "outputId": "3b3e0fa3-efe9-4107-fa0d-1b605e93248c"
      },
      "source": [
        "X['decade']"
      ],
      "execution_count": null,
      "outputs": [
        {
          "output_type": "execute_result",
          "data": {
            "text/plain": [
              "0        2.0\n",
              "1        9.0\n",
              "2        2.0\n",
              "3        5.0\n",
              "4        5.0\n",
              "        ... \n",
              "12222    9.0\n",
              "12223    3.0\n",
              "12224    6.0\n",
              "12225    9.0\n",
              "12226    9.0\n",
              "Name: decade, Length: 12227, dtype: float64"
            ]
          },
          "metadata": {
            "tags": []
          },
          "execution_count": 32
        }
      ]
    },
    {
      "cell_type": "code",
      "metadata": {
        "colab": {
          "base_uri": "https://localhost:8080/"
        },
        "id": "ns4r71efQhmg",
        "outputId": "8af0fa1b-695a-4dd4-c82c-8e60200be7d2"
      },
      "source": [
        "classifier.fit(X,y)"
      ],
      "execution_count": null,
      "outputs": [
        {
          "output_type": "execute_result",
          "data": {
            "text/plain": [
              "XGBClassifier(base_score=0.5, booster='gbtree', colsample_bylevel=1,\n",
              "              colsample_bynode=1, colsample_bytree=0.7, gamma=0.3,\n",
              "              learning_rate=0.15, max_delta_step=0, max_depth=15,\n",
              "              min_child_weight=1, missing=None, n_estimators=100, n_jobs=1,\n",
              "              nthread=None, objective='multi:softprob', random_state=0,\n",
              "              reg_alpha=0, reg_lambda=1, scale_pos_weight=1, seed=None,\n",
              "              silent=None, subsample=1, verbosity=1)"
            ]
          },
          "metadata": {
            "tags": []
          },
          "execution_count": 40
        }
      ]
    },
    {
      "cell_type": "code",
      "metadata": {
        "colab": {
          "base_uri": "https://localhost:8080/"
        },
        "id": "tcbtxcFtBJyd",
        "outputId": "0a42e6aa-c7fb-403e-9719-b61185b15f21"
      },
      "source": [
        "classifier.feature_importances_"
      ],
      "execution_count": null,
      "outputs": [
        {
          "output_type": "execute_result",
          "data": {
            "text/plain": [
              "array([0.02035775, 0.01967588, 0.01983203, 0.05156099, 0.02766236,\n",
              "       0.01777616, 0.01841896, 0.0226856 , 0.01823   , 0.02007597,\n",
              "       0.01869063, 0.02003284, 0.17454387, 0.02342793, 0.01956552,\n",
              "       0.5074635 ], dtype=float32)"
            ]
          },
          "metadata": {
            "tags": []
          },
          "execution_count": 41
        }
      ]
    },
    {
      "cell_type": "code",
      "metadata": {
        "colab": {
          "base_uri": "https://localhost:8080/",
          "height": 296
        },
        "id": "IqZi2153BtJy",
        "outputId": "20406dcb-3183-4eeb-aa16-9adcf7baf411"
      },
      "source": [
        "sorted_idx = classifier.feature_importances_.argsort()\n",
        "plt.barh(X.columns[sorted_idx], classifier.feature_importances_[sorted_idx])\n",
        "plt.xlabel(\"Xgboost Feature Importance\")"
      ],
      "execution_count": null,
      "outputs": [
        {
          "output_type": "execute_result",
          "data": {
            "text/plain": [
              "Text(0.5, 0, 'Xgboost Feature Importance')"
            ]
          },
          "metadata": {
            "tags": []
          },
          "execution_count": 42
        },
        {
          "output_type": "display_data",
          "data": {
            "image/png": "[encoded data removed]",
            "text/plain": [
              "<Figure size 432x288 with 1 Axes>"
            ]
          },
          "metadata": {
            "tags": [],
            "needs_background": "light"
          }
        }
      ]
    },
    {
      "cell_type": "code",
      "metadata": {
        "colab": {
          "base_uri": "https://localhost:8080/",
          "height": 571
        },
        "id": "vhG0fomUMjVD",
        "outputId": "63fd4867-20fd-473c-bca0-16326124f7d1"
      },
      "source": [
        "import seaborn as sns\n",
        "def correlation_heatmap(train):\n",
        "    correlations = train.corr()\n",
        "\n",
        "    fig, ax = plt.subplots(figsize=(10,10))\n",
        "    sns.heatmap(correlations, vmax=1.0, center=0, fmt='.2f', cmap=\"YlGnBu\",\n",
        "                square=True, linewidths=.5, annot=True, cbar_kws={\"shrink\": .70}\n",
        "                )\n",
        "    plt.show();\n",
        "    \n",
        "correlation_heatmap(X[X.columns[sorted_idx]])"
      ],
      "execution_count": null,
      "outputs": [
        {
          "output_type": "display_data",
          "data": {
            "image/png": "[encoded data removed]",
            "text/plain": [
              "<Figure size 720x720 with 2 Axes>"
            ]
          },
          "metadata": {
            "tags": [],
            "needs_background": "light"
          }
        }
      ]
    },
    {
      "cell_type": "code",
      "metadata": {
        "colab": {
          "base_uri": "https://localhost:8080/"
        },
        "id": "5B674gG-By4G",
        "outputId": "e87c10e9-9dc8-4433-fc4b-24e3ccbff613"
      },
      "source": [
        "from imblearn.over_sampling import SMOTE\n",
        "from collections import Counter\n",
        "oversample = SMOTE()\n",
        "X, y = oversample.fit_resample(X, y)\n",
        "# summarize distribution\n",
        "counter = Counter(y)\n",
        "for k,v in counter.items():\n",
        "\tper = v / len(y) * 100\n",
        "\tprint('Class=%d, n=%d (%.3f%%)' % (k, v, per))"
      ],
      "execution_count": null,
      "outputs": [
        {
          "output_type": "stream",
          "text": [
            "Class=0, n=3222 (20.000%)\n",
            "Class=1, n=3222 (20.000%)\n",
            "Class=2, n=3222 (20.000%)\n",
            "Class=3, n=3222 (20.000%)\n",
            "Class=4, n=3222 (20.000%)\n"
          ],
          "name": "stdout"
        },
        {
          "output_type": "stream",
          "text": [
            "/usr/local/lib/python3.7/dist-packages/sklearn/externals/six.py:31: FutureWarning: The module is deprecated in version 0.21 and will be removed in version 0.23 since we've dropped support for Python 2.7. Please rely on the official version of six (https://pypi.org/project/six/).\n",
            "  \"(https://pypi.org/project/six/).\", FutureWarning)\n",
            "/usr/local/lib/python3.7/dist-packages/sklearn/utils/deprecation.py:144: FutureWarning: The sklearn.neighbors.base module is  deprecated in version 0.22 and will be removed in version 0.24. The corresponding classes / functions should instead be imported from sklearn.neighbors. Anything that cannot be imported from sklearn.neighbors is now part of the private API.\n",
            "  warnings.warn(message, FutureWarning)\n",
            "/usr/local/lib/python3.7/dist-packages/sklearn/utils/deprecation.py:87: FutureWarning: Function safe_indexing is deprecated; safe_indexing is deprecated in version 0.22 and will be removed in version 0.24.\n",
            "  warnings.warn(msg, category=FutureWarning)\n",
            "/usr/local/lib/python3.7/dist-packages/sklearn/utils/deprecation.py:87: FutureWarning: Function safe_indexing is deprecated; safe_indexing is deprecated in version 0.22 and will be removed in version 0.24.\n",
            "  warnings.warn(msg, category=FutureWarning)\n",
            "/usr/local/lib/python3.7/dist-packages/sklearn/utils/deprecation.py:87: FutureWarning: Function safe_indexing is deprecated; safe_indexing is deprecated in version 0.22 and will be removed in version 0.24.\n",
            "  warnings.warn(msg, category=FutureWarning)\n",
            "/usr/local/lib/python3.7/dist-packages/sklearn/utils/deprecation.py:87: FutureWarning: Function safe_indexing is deprecated; safe_indexing is deprecated in version 0.22 and will be removed in version 0.24.\n",
            "  warnings.warn(msg, category=FutureWarning)\n"
          ],
          "name": "stderr"
        }
      ]
    },
    {
      "cell_type": "code",
      "metadata": {
        "colab": {
          "base_uri": "https://localhost:8080/",
          "height": 195
        },
        "id": "z2rmGtBL8Bsz",
        "outputId": "4d8d8494-7303-492b-967d-7f8b1b3000d2"
      },
      "source": [
        "X=pd.DataFrame(X)\n",
        "X.head()"
      ],
      "execution_count": null,
      "outputs": [
        {
          "output_type": "execute_result",
          "data": {
            "text/html": [
              "<div>\n",
              "<style scoped>\n",
              "    .dataframe tbody tr th:only-of-type {\n",
              "        vertical-align: middle;\n",
              "    }\n",
              "\n",
              "    .dataframe tbody tr th {\n",
              "        vertical-align: top;\n",
              "    }\n",
              "\n",
              "    .dataframe thead th {\n",
              "        text-align: right;\n",
              "    }\n",
              "</style>\n",
              "<table border=\"1\" class=\"dataframe\">\n",
              "  <thead>\n",
              "    <tr style=\"text-align: right;\">\n",
              "      <th></th>\n",
              "      <th>0</th>\n",
              "      <th>1</th>\n",
              "      <th>2</th>\n",
              "      <th>3</th>\n",
              "      <th>4</th>\n",
              "      <th>5</th>\n",
              "      <th>6</th>\n",
              "      <th>7</th>\n",
              "      <th>8</th>\n",
              "      <th>9</th>\n",
              "      <th>10</th>\n",
              "      <th>11</th>\n",
              "      <th>12</th>\n",
              "      <th>13</th>\n",
              "      <th>14</th>\n",
              "      <th>15</th>\n",
              "    </tr>\n",
              "  </thead>\n",
              "  <tbody>\n",
              "    <tr>\n",
              "      <th>0</th>\n",
              "      <td>0.949</td>\n",
              "      <td>0.235</td>\n",
              "      <td>0.0276</td>\n",
              "      <td>0.0</td>\n",
              "      <td>0.9270</td>\n",
              "      <td>5.0</td>\n",
              "      <td>0.513</td>\n",
              "      <td>-27.398</td>\n",
              "      <td>1.0</td>\n",
              "      <td>0.0381</td>\n",
              "      <td>110.838</td>\n",
              "      <td>0.0398</td>\n",
              "      <td>1947.0</td>\n",
              "      <td>3.0</td>\n",
              "      <td>332.5140</td>\n",
              "      <td>2.0</td>\n",
              "    </tr>\n",
              "    <tr>\n",
              "      <th>1</th>\n",
              "      <td>0.855</td>\n",
              "      <td>0.456</td>\n",
              "      <td>0.4850</td>\n",
              "      <td>0.0</td>\n",
              "      <td>0.0884</td>\n",
              "      <td>4.0</td>\n",
              "      <td>0.151</td>\n",
              "      <td>-10.046</td>\n",
              "      <td>1.0</td>\n",
              "      <td>0.0437</td>\n",
              "      <td>152.066</td>\n",
              "      <td>0.8590</td>\n",
              "      <td>2020.0</td>\n",
              "      <td>2.4</td>\n",
              "      <td>364.9584</td>\n",
              "      <td>9.0</td>\n",
              "    </tr>\n",
              "    <tr>\n",
              "      <th>2</th>\n",
              "      <td>0.827</td>\n",
              "      <td>0.495</td>\n",
              "      <td>0.4990</td>\n",
              "      <td>0.0</td>\n",
              "      <td>0.0000</td>\n",
              "      <td>0.0</td>\n",
              "      <td>0.401</td>\n",
              "      <td>-8.009</td>\n",
              "      <td>0.0</td>\n",
              "      <td>0.0474</td>\n",
              "      <td>108.004</td>\n",
              "      <td>0.7090</td>\n",
              "      <td>1950.0</td>\n",
              "      <td>2.6</td>\n",
              "      <td>280.8104</td>\n",
              "      <td>2.0</td>\n",
              "    </tr>\n",
              "    <tr>\n",
              "      <th>3</th>\n",
              "      <td>0.654</td>\n",
              "      <td>0.643</td>\n",
              "      <td>0.4690</td>\n",
              "      <td>0.0</td>\n",
              "      <td>0.1080</td>\n",
              "      <td>7.0</td>\n",
              "      <td>0.218</td>\n",
              "      <td>-15.917</td>\n",
              "      <td>1.0</td>\n",
              "      <td>0.0368</td>\n",
              "      <td>83.636</td>\n",
              "      <td>0.9640</td>\n",
              "      <td>1974.0</td>\n",
              "      <td>2.4</td>\n",
              "      <td>200.7264</td>\n",
              "      <td>5.0</td>\n",
              "    </tr>\n",
              "    <tr>\n",
              "      <th>4</th>\n",
              "      <td>0.738</td>\n",
              "      <td>0.705</td>\n",
              "      <td>0.3110</td>\n",
              "      <td>0.0</td>\n",
              "      <td>0.0000</td>\n",
              "      <td>5.0</td>\n",
              "      <td>0.322</td>\n",
              "      <td>-12.344</td>\n",
              "      <td>1.0</td>\n",
              "      <td>0.0488</td>\n",
              "      <td>117.260</td>\n",
              "      <td>0.7850</td>\n",
              "      <td>1973.0</td>\n",
              "      <td>3.4</td>\n",
              "      <td>398.6840</td>\n",
              "      <td>5.0</td>\n",
              "    </tr>\n",
              "  </tbody>\n",
              "</table>\n",
              "</div>"
            ],
            "text/plain": [
              "      0      1       2    3       4   ...      11      12   13        14   15\n",
              "0  0.949  0.235  0.0276  0.0  0.9270  ...  0.0398  1947.0  3.0  332.5140  2.0\n",
              "1  0.855  0.456  0.4850  0.0  0.0884  ...  0.8590  2020.0  2.4  364.9584  9.0\n",
              "2  0.827  0.495  0.4990  0.0  0.0000  ...  0.7090  1950.0  2.6  280.8104  2.0\n",
              "3  0.654  0.643  0.4690  0.0  0.1080  ...  0.9640  1974.0  2.4  200.7264  5.0\n",
              "4  0.738  0.705  0.3110  0.0  0.0000  ...  0.7850  1973.0  3.4  398.6840  5.0\n",
              "\n",
              "[5 rows x 16 columns]"
            ]
          },
          "metadata": {
            "tags": []
          },
          "execution_count": 34
        }
      ]
    },
    {
      "cell_type": "code",
      "metadata": {
        "id": "WvUbZ4qfYK5J"
      },
      "source": [
        "from sklearn.model_selection import train_test_split\n",
        "X_train,X_test,y_train,y_test=train_test_split(X,y,test_size=0.3, shuffle=True)"
      ],
      "execution_count": null,
      "outputs": []
    },
    {
      "cell_type": "code",
      "metadata": {
        "id": "ZHdD4QrUzNtr"
      },
      "source": [
        "params={\n",
        " \"learning_rate\"    : [0.05, 0.10, 0.15, 0.20, 0.25, 0.30 ] ,\n",
        " \"max_depth\"        : [ 2, 3, 4, 5, 6, 8, 10, 12, 15 ],\n",
        " \"n_estimators\"     : [100,200,400,500,600,800,1000],\n",
        " \"min_child_weight\" : [ 1, 3, 5, 7 ],\n",
        " \"gamma\"            : [ 0.0, 0.1, 0.2 , 0.3, 0.4 ],\n",
        " \"colsample_bytree\" : [ 0.3, 0.4, 0.5 , 0.7 ]\n",
        "    \n",
        "}\n"
      ],
      "execution_count": null,
      "outputs": []
    },
    {
      "cell_type": "code",
      "metadata": {
        "id": "f4gqRZEz0TVj"
      },
      "source": [
        "from sklearn.model_selection import RandomizedSearchCV\n",
        "from xgboost import XGBClassifier\n",
        "classifier=XGBClassifier()"
      ],
      "execution_count": null,
      "outputs": []
    },
    {
      "cell_type": "code",
      "metadata": {
        "id": "rBcddL1p0ePA"
      },
      "source": [
        "random_search=RandomizedSearchCV(classifier,param_distributions=params,n_iter=5,scoring='accuracy',n_jobs=-1,cv=10,verbose=3)"
      ],
      "execution_count": null,
      "outputs": []
    },
    {
      "cell_type": "code",
      "metadata": {
        "id": "PJwHDD8d6SWL"
      },
      "source": [
        "#def timer(start_time=None):\n",
        " #   if not start_time:\n",
        "  #      start_time = datetime.now()\n",
        "   #     return start_time\n",
        "    #elif start_time:\n",
        "     #   thour, temp_sec = divmod((datetime.now() - start_time).total_seconds(), 3600)\n",
        "      #  tmin, tsec = divmod(temp_sec, 60)\n",
        "       # print('\\n Time taken: %i hours %i minutes and %s seconds.' % (thour, tmin, round(tsec, 2)))"
      ],
      "execution_count": null,
      "outputs": []
    },
    {
      "cell_type": "code",
      "metadata": {
        "colab": {
          "base_uri": "https://localhost:8080/",
          "height": 1000
        },
        "id": "IsxCBd2J5H6X",
        "outputId": "4e196e8b-75ce-450b-f71f-2cfbe0e87701"
      },
      "source": [
        "#from datetime import datetime\n",
        "\n",
        "#start_time = timer(None) # timing starts from this point for \"start_time\" variable\n",
        "random_search.fit(X,y)\n",
        "#timer(start_time) # timing ends here for \"start_time\" variable"
      ],
      "execution_count": null,
      "outputs": [
        {
          "output_type": "stream",
          "text": [
            "Fitting 10 folds for each of 5 candidates, totalling 50 fits\n"
          ],
          "name": "stdout"
        },
        {
          "output_type": "stream",
          "text": [
            "[Parallel(n_jobs=-1)]: Using backend LokyBackend with 2 concurrent workers.\n",
            "ERROR:root:Internal Python error in the inspect module.\n",
            "Below is the traceback from this internal error.\n",
            "\n"
          ],
          "name": "stderr"
        },
        {
          "output_type": "stream",
          "text": [
            "Traceback (most recent call last):\n",
            "  File \"/usr/local/lib/python3.7/dist-packages/IPython/core/interactiveshell.py\", line 2882, in run_code\n",
            "    exec(code_obj, self.user_global_ns, self.user_ns)\n",
            "  File \"<ipython-input-40-f0e78ac41bef>\", line 4, in <module>\n",
            "    random_search.fit(X,y)\n",
            "  File \"/usr/local/lib/python3.7/dist-packages/sklearn/model_selection/_search.py\", line 710, in fit\n",
            "    self._run_search(evaluate_candidates)\n",
            "  File \"/usr/local/lib/python3.7/dist-packages/sklearn/model_selection/_search.py\", line 1484, in _run_search\n",
            "    random_state=self.random_state))\n",
            "  File \"/usr/local/lib/python3.7/dist-packages/sklearn/model_selection/_search.py\", line 689, in evaluate_candidates\n",
            "    cv.split(X, y, groups)))\n",
            "  File \"/usr/local/lib/python3.7/dist-packages/joblib/parallel.py\", line 1054, in __call__\n",
            "    self.retrieve()\n",
            "  File \"/usr/local/lib/python3.7/dist-packages/joblib/parallel.py\", line 933, in retrieve\n",
            "    self._output.extend(job.get(timeout=self.timeout))\n",
            "  File \"/usr/local/lib/python3.7/dist-packages/joblib/_parallel_backends.py\", line 542, in wrap_future_result\n",
            "    return future.result(timeout=timeout)\n",
            "  File \"/usr/lib/python3.7/concurrent/futures/_base.py\", line 430, in result\n",
            "    self._condition.wait(timeout)\n",
            "  File \"/usr/lib/python3.7/threading.py\", line 296, in wait\n",
            "    waiter.acquire()\n",
            "KeyboardInterrupt\n",
            "\n",
            "During handling of the above exception, another exception occurred:\n",
            "\n",
            "Traceback (most recent call last):\n",
            "  File \"/usr/local/lib/python3.7/dist-packages/IPython/core/interactiveshell.py\", line 1823, in showtraceback\n",
            "    stb = value._render_traceback_()\n",
            "AttributeError: 'KeyboardInterrupt' object has no attribute '_render_traceback_'\n",
            "\n",
            "During handling of the above exception, another exception occurred:\n",
            "\n",
            "Traceback (most recent call last):\n",
            "  File \"/usr/local/lib/python3.7/dist-packages/IPython/core/ultratb.py\", line 1132, in get_records\n",
            "    return _fixed_getinnerframes(etb, number_of_lines_of_context, tb_offset)\n",
            "  File \"/usr/local/lib/python3.7/dist-packages/IPython/core/ultratb.py\", line 313, in wrapped\n",
            "    return f(*args, **kwargs)\n",
            "  File \"/usr/local/lib/python3.7/dist-packages/IPython/core/ultratb.py\", line 358, in _fixed_getinnerframes\n",
            "    records = fix_frame_records_filenames(inspect.getinnerframes(etb, context))\n",
            "  File \"/usr/lib/python3.7/inspect.py\", line 1502, in getinnerframes\n",
            "    frameinfo = (tb.tb_frame,) + getframeinfo(tb, context)\n",
            "  File \"/usr/lib/python3.7/inspect.py\", line 1464, in getframeinfo\n",
            "    lines, lnum = findsource(frame)\n",
            "  File \"/usr/local/lib/python3.7/dist-packages/IPython/core/ultratb.py\", line 182, in findsource\n",
            "    lines = linecache.getlines(file, globals_dict)\n",
            "  File \"/usr/lib/python3.7/linecache.py\", line 47, in getlines\n",
            "    return updatecache(filename, module_globals)\n",
            "  File \"/usr/lib/python3.7/linecache.py\", line 136, in updatecache\n",
            "    with tokenize.open(fullname) as fp:\n",
            "  File \"/usr/lib/python3.7/tokenize.py\", line 449, in open\n",
            "    encoding, lines = detect_encoding(buffer.readline)\n",
            "  File \"/usr/lib/python3.7/tokenize.py\", line 418, in detect_encoding\n",
            "    first = read_or_stop()\n",
            "  File \"/usr/lib/python3.7/tokenize.py\", line 376, in read_or_stop\n",
            "    return readline()\n",
            "KeyboardInterrupt\n"
          ],
          "name": "stdout"
        },
        {
          "output_type": "error",
          "ename": "KeyboardInterrupt",
          "evalue": "ignored",
          "traceback": [
            "\u001b[0;31m---------------------------------------------------------------------------\u001b[0m"
          ]
        }
      ]
    },
    {
      "cell_type": "code",
      "metadata": {
        "colab": {
          "base_uri": "https://localhost:8080/"
        },
        "id": "8z3Cvthz5qis",
        "outputId": "d657b5ac-e6b0-4927-8559-8e3108152f7e"
      },
      "source": [
        "random_search.best_estimator_"
      ],
      "execution_count": null,
      "outputs": [
        {
          "output_type": "execute_result",
          "data": {
            "text/plain": [
              "XGBClassifier(base_score=0.5, booster='gbtree', colsample_bylevel=1,\n",
              "              colsample_bynode=1, colsample_bytree=0.7, gamma=0.3,\n",
              "              learning_rate=0.15, max_delta_step=0, max_depth=15,\n",
              "              min_child_weight=1, missing=None, n_estimators=100, n_jobs=1,\n",
              "              nthread=None, objective='multi:softprob', random_state=0,\n",
              "              reg_alpha=0, reg_lambda=1, scale_pos_weight=1, seed=None,\n",
              "              silent=None, subsample=1, verbosity=1)"
            ]
          },
          "metadata": {
            "tags": []
          },
          "execution_count": 41
        }
      ]
    },
    {
      "cell_type": "code",
      "metadata": {
        "colab": {
          "base_uri": "https://localhost:8080/"
        },
        "id": "j9CWDPLJ-wkS",
        "outputId": "1d7dfe9f-456a-49db-a278-4d58864a4092"
      },
      "source": [
        "random_search.best_params_"
      ],
      "execution_count": null,
      "outputs": [
        {
          "output_type": "execute_result",
          "data": {
            "text/plain": [
              "{'colsample_bytree': 0.7,\n",
              " 'gamma': 0.3,\n",
              " 'learning_rate': 0.15,\n",
              " 'max_depth': 15,\n",
              " 'min_child_weight': 1,\n",
              " 'n_estimators': 100}"
            ]
          },
          "metadata": {
            "tags": []
          },
          "execution_count": 42
        }
      ]
    },
    {
      "cell_type": "code",
      "metadata": {
        "id": "OPJPiBhA-1BB"
      },
      "source": [
        "classifier=XGBClassifier(base_score=0.5, booster='gbtree', colsample_bylevel=1,\n",
        "              colsample_bynode=1, colsample_bytree=0.7, gamma=0.3,\n",
        "              learning_rate=0.15, max_delta_step=0, max_depth=15,\n",
        "              min_child_weight=1, missing=None, n_estimators=100, n_jobs=1,\n",
        "              nthread=None, objective='multi:softprob', random_state=0,\n",
        "              reg_alpha=0, reg_lambda=1, scale_pos_weight=1, seed=None,\n",
        "              silent=None, subsample=1, verbosity=1)"
      ],
      "execution_count": null,
      "outputs": []
    },
    {
      "cell_type": "code",
      "metadata": {
        "id": "JUAGmkW0-_-8"
      },
      "source": [
        "\n",
        "from sklearn.model_selection import cross_val_score\n",
        "score=cross_val_score(classifier,X,y,cv=25)"
      ],
      "execution_count": null,
      "outputs": []
    },
    {
      "cell_type": "code",
      "metadata": {
        "id": "93qAE0eSOjhA"
      },
      "source": [
        "score"
      ],
      "execution_count": null,
      "outputs": []
    },
    {
      "cell_type": "code",
      "metadata": {
        "colab": {
          "base_uri": "https://localhost:8080/"
        },
        "id": "tahInu95_EHh",
        "outputId": "0e289f87-0d88-4e3e-bad4-ab5fad314251"
      },
      "source": [
        "score"
      ],
      "execution_count": null,
      "outputs": [
        {
          "output_type": "execute_result",
          "data": {
            "text/plain": [
              "array([0.6372093 , 0.61705426, 0.62790698, 0.71937984, 0.70852713,\n",
              "       0.69147287, 0.70387597, 0.68527132, 0.70697674, 0.74573643,\n",
              "       0.72049689, 0.68944099, 0.70186335, 0.69254658, 0.70341615,\n",
              "       0.67857143, 0.70652174, 0.73136646, 0.6863354 , 0.69720497,\n",
              "       0.72049689, 0.69720497, 0.70496894, 0.73291925, 0.75931677])"
            ]
          },
          "metadata": {
            "tags": []
          },
          "execution_count": 47
        }
      ]
    },
    {
      "cell_type": "code",
      "metadata": {
        "colab": {
          "base_uri": "https://localhost:8080/"
        },
        "id": "ValsP_um_Ks7",
        "outputId": "6a06fb10-bdc9-4456-fbfa-5e2967015c99"
      },
      "source": [
        "\n",
        "score.mean()"
      ],
      "execution_count": null,
      "outputs": [
        {
          "output_type": "execute_result",
          "data": {
            "text/plain": [
              "0.6986432664066637"
            ]
          },
          "metadata": {
            "tags": []
          },
          "execution_count": 48
        }
      ]
    },
    {
      "cell_type": "code",
      "metadata": {
        "id": "OmlUoPb9NsGf"
      },
      "source": [
        "classifier.fit(X_train,y_train)\n",
        "y_predicted=classifier.predict(X_test)"
      ],
      "execution_count": null,
      "outputs": []
    },
    {
      "cell_type": "code",
      "metadata": {
        "id": "hoQxKRWvmlI-"
      },
      "source": [
        "pred_prob = classifier.predict_proba(X_test)"
      ],
      "execution_count": null,
      "outputs": []
    },
    {
      "cell_type": "code",
      "metadata": {
        "colab": {
          "base_uri": "https://localhost:8080/",
          "height": 312
        },
        "id": "wSjtIF8Jl_ro",
        "outputId": "319ab1e3-9147-4ff1-9553-b8277b0f4924"
      },
      "source": [
        "from sklearn.metrics import roc_curve\n",
        "from sklearn.metrics import roc_auc_score\n",
        "# roc curve for classes\n",
        "fpr = {}\n",
        "tpr = {}\n",
        "thresh ={}\n",
        "\n",
        "n_class = 5\n",
        "\n",
        "for i in range(n_class):    \n",
        "    fpr[i], tpr[i], thresh[i] = roc_curve(y_test, pred_prob[:,i], pos_label=i)\n",
        "    \n",
        "# plotting    \n",
        "plt.plot(fpr[0], tpr[0], linestyle='--',color='orange', label='Class 0 vs Rest')\n",
        "plt.plot(fpr[1], tpr[1], linestyle='--',color='green', label='Class 1 vs Rest')\n",
        "plt.plot(fpr[2], tpr[2], linestyle='--',color='blue', label='Class 2 vs Rest')\n",
        "plt.plot(fpr[3], tpr[3], linestyle='--',color='red', label='Class 3 vs Rest')\n",
        "plt.plot(fpr[4], tpr[4], linestyle='--',color='yellow', label='Class 4 vs Rest')\n",
        "plt.title('ROC curve')\n",
        "plt.xlabel('False Positive Rate')\n",
        "plt.ylabel('True Positive rate')\n",
        "plt.legend(loc='best')\n"
      ],
      "execution_count": null,
      "outputs": [
        {
          "output_type": "execute_result",
          "data": {
            "text/plain": [
              "<matplotlib.legend.Legend at 0x7f6c81b58510>"
            ]
          },
          "metadata": {
            "tags": []
          },
          "execution_count": 50
        },
        {
          "output_type": "display_data",
          "data": {
            "image/png": "[encoded data removed]",
            "text/plain": [
              "<Figure size 432x288 with 1 Axes>"
            ]
          },
          "metadata": {
            "tags": [],
            "needs_background": "light"
          }
        }
      ]
    },
    {
      "cell_type": "code",
      "metadata": {
        "id": "5jxR6rmQOhlw",
        "colab": {
          "base_uri": "https://localhost:8080/"
        },
        "outputId": "f833cb8e-1b82-45ab-c295-de9518d795a9"
      },
      "source": [
        "from sklearn import metrics\n",
        "from sklearn.metrics import roc_auc_score\n",
        "print(metrics.confusion_matrix(y_test, y_predicted))\n",
        "print(metrics.classification_report(y_test, y_predicted, digits=3))"
      ],
      "execution_count": null,
      "outputs": [
        {
          "output_type": "stream",
          "text": [
            "[[766  94  39  46  10]\n",
            " [103 605 194  17   0]\n",
            " [ 35 309 490 137   7]\n",
            " [ 30 106 203 529 123]\n",
            " [  4   3  11  45 927]]\n",
            "              precision    recall  f1-score   support\n",
            "\n",
            "           0      0.817     0.802     0.809       955\n",
            "           1      0.542     0.658     0.594       919\n",
            "           2      0.523     0.501     0.512       978\n",
            "           3      0.683     0.534     0.599       991\n",
            "           4      0.869     0.936     0.901       990\n",
            "\n",
            "    accuracy                          0.686      4833\n",
            "   macro avg      0.687     0.686     0.683      4833\n",
            "weighted avg      0.688     0.686     0.684      4833\n",
            "\n"
          ],
          "name": "stdout"
        }
      ]
    },
    {
      "cell_type": "code",
      "metadata": {
        "id": "k3jxDbhcRJIA"
      },
      "source": [
        "y_test = pd.DataFrame(y_test)\n",
        "y_predicted = pd.DataFrame(y_predicted)\n",
        "X_test = pd.DataFrame(X_test)\n",
        "y_train = pd.DataFrame(y_train)\n",
        "X_train = pd.DataFrame(X_test)"
      ],
      "execution_count": null,
      "outputs": []
    },
    {
      "cell_type": "code",
      "metadata": {
        "id": "sOI6Tq3j40bs"
      },
      "source": [
        ""
      ],
      "execution_count": null,
      "outputs": []
    },
    {
      "cell_type": "code",
      "metadata": {
        "id": "982asHVWMNXc"
      },
      "source": [
        "def revenue(y_predicted, y_test):\n",
        "    revenue = 0\n",
        "    expected_rev = {4: 10, 3: 8, 2: 6, 1: 4, 0: 2}\n",
        "    for i in range(len(y_predicted)):\n",
        "        if (y_predicted[i]>=y_test.iloc[i]):\n",
        "            revenue = revenue + expected_rev[y_test.iloc[i]]\n",
        "    return revenue"
      ],
      "execution_count": null,
      "outputs": []
    },
    {
      "cell_type": "code",
      "metadata": {
        "id": "agKniYNKNL8J"
      },
      "source": [
        "expected_revenue = revenue(y_predicted,y_test)"
      ],
      "execution_count": null,
      "outputs": []
    },
    {
      "cell_type": "code",
      "metadata": {
        "id": "KnV_1G8cZytc"
      },
      "source": [
        "def max_revenue(y_predicted, y_test):\n",
        "    revenue = 0\n",
        "    expected_rev = {4: 10, 3: 8, 2: 6, 1: 4, 0: 2}\n",
        "    for i in range(len(y_predicted)):\n",
        "        if (y_predicted.iloc[i]>=y_test.iloc[i]):\n",
        "            revenue = revenue + expected_rev[y_test.iloc[i]]\n",
        "    return revenue"
      ],
      "execution_count": null,
      "outputs": []
    },
    {
      "cell_type": "code",
      "metadata": {
        "id": "XeLV9uZzUQiQ"
      },
      "source": [
        ""
      ],
      "execution_count": null,
      "outputs": []
    },
    {
      "cell_type": "markdown",
      "metadata": {
        "id": "LQdj5LBCc1hp"
      },
      "source": [
        "1. all the features except id and release_date\n",
        "\n",
        "\n",
        "\n",
        "\n",
        "   score(X)=0.6960389041359718\n",
        "\n",
        "\n",
        "\n",
        "\n",
        "   score(X_train)=0.6823642642701568\n",
        "\n",
        "\n",
        "\n",
        "\n",
        "   score(X_test)=0.6604732653170236"
      ]
    },
    {
      "cell_type": "markdown",
      "metadata": {
        "id": "EQvZ8L5G2KeB"
      },
      "source": [
        "2. all features except mode ,key,id,release_date,explicit\n",
        "\n",
        "\n",
        "score=65.63\n"
      ]
    }
  ]
}